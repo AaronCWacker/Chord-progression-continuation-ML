{
 "cells": [
  {
   "cell_type": "markdown",
   "id": "2eca98aa-df00-498d-8490-4ee59a1f7654",
   "metadata": {},
   "source": [
    "## Importing the Required Libraries"
   ]
  },
  {
   "cell_type": "markdown",
   "id": "d361c30a-5df6-4951-a7c7-da0027c9d859",
   "metadata": {},
   "source": [
    "https://deepai.org/publication/general-purpose-long-context-autoregressive-modeling-with-perceiver-ar"
   ]
  },
  {
   "cell_type": "code",
   "execution_count": 5,
   "id": "a4eecce8-3ed0-4263-84f8-c0775be48729",
   "metadata": {},
   "outputs": [],
   "source": [
    "import gzip\n",
    "import random\n",
    "\n",
    "import numpy as np\n",
    "import torch\n",
    "import torch.optim as optim\n",
    "import tqdm\n",
    "from torch.nn import functional as F\n",
    "from torch.utils.data import DataLoader, Dataset\n",
    "\n",
    "from perceiver_ar_pytorch import PerceiverAR\n",
    "from perceiver_ar_pytorch.autoregressive_wrapper import AutoregressiveWrapper\n",
    "\n",
    "from sklearn.model_selection import train_test_split\n",
    "\n",
    "import re\n",
    "\n",
    "from pychord import Chord\n",
    "import json\n",
    "\n",
    "import pickle"
   ]
  },
  {
   "cell_type": "markdown",
   "id": "03556a48-f05d-470f-82fd-d51db4fd9534",
   "metadata": {},
   "source": [
    "## Defining Constants and Helper Functions"
   ]
  },
  {
   "cell_type": "code",
   "execution_count": 2,
   "id": "520f4eaa-76fd-4aa4-94f0-4c799a92d72e",
   "metadata": {},
   "outputs": [],
   "source": [
    "# constants\n",
    "\n",
    "NUM_BATCHES = int(1e4)\n",
    "BATCH_SIZE = 64\n",
    "GRADIENT_ACCUMULATE_EVERY = 4\n",
    "LEARNING_RATE = 1e-4\n",
    "VALIDATE_EVERY = 100\n",
    "GENERATE_EVERY = 500\n",
    "GENERATE_LENGTH = 2\n",
    "SEQ_LEN = 4\n",
    "PREFIX_SEQ_LEN = 1"
   ]
  },
  {
   "cell_type": "code",
   "execution_count": 3,
   "id": "9f0ba5a2-89b0-43bc-bc45-4930755bea12",
   "metadata": {
    "scrolled": true,
    "tags": []
   },
   "outputs": [
    {
     "data": {
      "text/plain": [
       "AutoregressiveWrapper(\n",
       "  (net): PerceiverAR(\n",
       "    (token_emb): Embedding(121, 128)\n",
       "    (pos_emb): Embedding(4, 128)\n",
       "    (rotary_pos_emb): RotaryEmbedding()\n",
       "    (perceive_layers): ModuleList(\n",
       "      (0): ModuleList(\n",
       "        (0): CausalPrefixAttention(\n",
       "          (norm): LayerNorm((128,), eps=1e-05, elementwise_affine=True)\n",
       "          (context_norm): LayerNorm((128,), eps=1e-05, elementwise_affine=True)\n",
       "          (dropout): Dropout(p=0.0, inplace=False)\n",
       "          (to_q): Linear(in_features=128, out_features=512, bias=False)\n",
       "          (to_kv): Linear(in_features=128, out_features=1024, bias=False)\n",
       "          (to_out): Linear(in_features=512, out_features=128, bias=True)\n",
       "        )\n",
       "        (1): Sequential(\n",
       "          (0): LayerNorm((128,), eps=1e-05, elementwise_affine=True)\n",
       "          (1): Linear(in_features=128, out_features=512, bias=False)\n",
       "          (2): GELU(approximate=none)\n",
       "          (3): Dropout(p=0.0, inplace=False)\n",
       "          (4): Linear(in_features=512, out_features=128, bias=False)\n",
       "        )\n",
       "      )\n",
       "    )\n",
       "    (layers): ModuleList(\n",
       "      (0): ModuleList(\n",
       "        (0): CausalAttention(\n",
       "          (norm): LayerNorm((128,), eps=1e-05, elementwise_affine=True)\n",
       "          (dropout): Dropout(p=0.0, inplace=False)\n",
       "          (to_qkv): Linear(in_features=128, out_features=1536, bias=False)\n",
       "          (to_out): Linear(in_features=512, out_features=128, bias=False)\n",
       "        )\n",
       "        (1): Sequential(\n",
       "          (0): LayerNorm((128,), eps=1e-05, elementwise_affine=True)\n",
       "          (1): Linear(in_features=128, out_features=512, bias=False)\n",
       "          (2): GELU(approximate=none)\n",
       "          (3): Dropout(p=0.0, inplace=False)\n",
       "          (4): Linear(in_features=512, out_features=128, bias=False)\n",
       "        )\n",
       "      )\n",
       "      (1): ModuleList(\n",
       "        (0): CausalAttention(\n",
       "          (norm): LayerNorm((128,), eps=1e-05, elementwise_affine=True)\n",
       "          (dropout): Dropout(p=0.0, inplace=False)\n",
       "          (to_qkv): Linear(in_features=128, out_features=1536, bias=False)\n",
       "          (to_out): Linear(in_features=512, out_features=128, bias=False)\n",
       "        )\n",
       "        (1): Sequential(\n",
       "          (0): LayerNorm((128,), eps=1e-05, elementwise_affine=True)\n",
       "          (1): Linear(in_features=128, out_features=512, bias=False)\n",
       "          (2): GELU(approximate=none)\n",
       "          (3): Dropout(p=0.0, inplace=False)\n",
       "          (4): Linear(in_features=512, out_features=128, bias=False)\n",
       "        )\n",
       "      )\n",
       "      (2): ModuleList(\n",
       "        (0): CausalAttention(\n",
       "          (norm): LayerNorm((128,), eps=1e-05, elementwise_affine=True)\n",
       "          (dropout): Dropout(p=0.0, inplace=False)\n",
       "          (to_qkv): Linear(in_features=128, out_features=1536, bias=False)\n",
       "          (to_out): Linear(in_features=512, out_features=128, bias=False)\n",
       "        )\n",
       "        (1): Sequential(\n",
       "          (0): LayerNorm((128,), eps=1e-05, elementwise_affine=True)\n",
       "          (1): Linear(in_features=128, out_features=512, bias=False)\n",
       "          (2): GELU(approximate=none)\n",
       "          (3): Dropout(p=0.0, inplace=False)\n",
       "          (4): Linear(in_features=512, out_features=128, bias=False)\n",
       "        )\n",
       "      )\n",
       "      (3): ModuleList(\n",
       "        (0): CausalAttention(\n",
       "          (norm): LayerNorm((128,), eps=1e-05, elementwise_affine=True)\n",
       "          (dropout): Dropout(p=0.0, inplace=False)\n",
       "          (to_qkv): Linear(in_features=128, out_features=1536, bias=False)\n",
       "          (to_out): Linear(in_features=512, out_features=128, bias=False)\n",
       "        )\n",
       "        (1): Sequential(\n",
       "          (0): LayerNorm((128,), eps=1e-05, elementwise_affine=True)\n",
       "          (1): Linear(in_features=128, out_features=512, bias=False)\n",
       "          (2): GELU(approximate=none)\n",
       "          (3): Dropout(p=0.0, inplace=False)\n",
       "          (4): Linear(in_features=512, out_features=128, bias=False)\n",
       "        )\n",
       "      )\n",
       "      (4): ModuleList(\n",
       "        (0): CausalAttention(\n",
       "          (norm): LayerNorm((128,), eps=1e-05, elementwise_affine=True)\n",
       "          (dropout): Dropout(p=0.0, inplace=False)\n",
       "          (to_qkv): Linear(in_features=128, out_features=1536, bias=False)\n",
       "          (to_out): Linear(in_features=512, out_features=128, bias=False)\n",
       "        )\n",
       "        (1): Sequential(\n",
       "          (0): LayerNorm((128,), eps=1e-05, elementwise_affine=True)\n",
       "          (1): Linear(in_features=128, out_features=512, bias=False)\n",
       "          (2): GELU(approximate=none)\n",
       "          (3): Dropout(p=0.0, inplace=False)\n",
       "          (4): Linear(in_features=512, out_features=128, bias=False)\n",
       "        )\n",
       "      )\n",
       "      (5): ModuleList(\n",
       "        (0): CausalAttention(\n",
       "          (norm): LayerNorm((128,), eps=1e-05, elementwise_affine=True)\n",
       "          (dropout): Dropout(p=0.0, inplace=False)\n",
       "          (to_qkv): Linear(in_features=128, out_features=1536, bias=False)\n",
       "          (to_out): Linear(in_features=512, out_features=128, bias=False)\n",
       "        )\n",
       "        (1): Sequential(\n",
       "          (0): LayerNorm((128,), eps=1e-05, elementwise_affine=True)\n",
       "          (1): Linear(in_features=128, out_features=512, bias=False)\n",
       "          (2): GELU(approximate=none)\n",
       "          (3): Dropout(p=0.0, inplace=False)\n",
       "          (4): Linear(in_features=512, out_features=128, bias=False)\n",
       "        )\n",
       "      )\n",
       "      (6): ModuleList(\n",
       "        (0): CausalAttention(\n",
       "          (norm): LayerNorm((128,), eps=1e-05, elementwise_affine=True)\n",
       "          (dropout): Dropout(p=0.0, inplace=False)\n",
       "          (to_qkv): Linear(in_features=128, out_features=1536, bias=False)\n",
       "          (to_out): Linear(in_features=512, out_features=128, bias=False)\n",
       "        )\n",
       "        (1): Sequential(\n",
       "          (0): LayerNorm((128,), eps=1e-05, elementwise_affine=True)\n",
       "          (1): Linear(in_features=128, out_features=512, bias=False)\n",
       "          (2): GELU(approximate=none)\n",
       "          (3): Dropout(p=0.0, inplace=False)\n",
       "          (4): Linear(in_features=512, out_features=128, bias=False)\n",
       "        )\n",
       "      )\n",
       "      (7): ModuleList(\n",
       "        (0): CausalAttention(\n",
       "          (norm): LayerNorm((128,), eps=1e-05, elementwise_affine=True)\n",
       "          (dropout): Dropout(p=0.0, inplace=False)\n",
       "          (to_qkv): Linear(in_features=128, out_features=1536, bias=False)\n",
       "          (to_out): Linear(in_features=512, out_features=128, bias=False)\n",
       "        )\n",
       "        (1): Sequential(\n",
       "          (0): LayerNorm((128,), eps=1e-05, elementwise_affine=True)\n",
       "          (1): Linear(in_features=128, out_features=512, bias=False)\n",
       "          (2): GELU(approximate=none)\n",
       "          (3): Dropout(p=0.0, inplace=False)\n",
       "          (4): Linear(in_features=512, out_features=128, bias=False)\n",
       "        )\n",
       "      )\n",
       "      (8): ModuleList(\n",
       "        (0): CausalAttention(\n",
       "          (norm): LayerNorm((128,), eps=1e-05, elementwise_affine=True)\n",
       "          (dropout): Dropout(p=0.0, inplace=False)\n",
       "          (to_qkv): Linear(in_features=128, out_features=1536, bias=False)\n",
       "          (to_out): Linear(in_features=512, out_features=128, bias=False)\n",
       "        )\n",
       "        (1): Sequential(\n",
       "          (0): LayerNorm((128,), eps=1e-05, elementwise_affine=True)\n",
       "          (1): Linear(in_features=128, out_features=512, bias=False)\n",
       "          (2): GELU(approximate=none)\n",
       "          (3): Dropout(p=0.0, inplace=False)\n",
       "          (4): Linear(in_features=512, out_features=128, bias=False)\n",
       "        )\n",
       "      )\n",
       "      (9): ModuleList(\n",
       "        (0): CausalAttention(\n",
       "          (norm): LayerNorm((128,), eps=1e-05, elementwise_affine=True)\n",
       "          (dropout): Dropout(p=0.0, inplace=False)\n",
       "          (to_qkv): Linear(in_features=128, out_features=1536, bias=False)\n",
       "          (to_out): Linear(in_features=512, out_features=128, bias=False)\n",
       "        )\n",
       "        (1): Sequential(\n",
       "          (0): LayerNorm((128,), eps=1e-05, elementwise_affine=True)\n",
       "          (1): Linear(in_features=128, out_features=512, bias=False)\n",
       "          (2): GELU(approximate=none)\n",
       "          (3): Dropout(p=0.0, inplace=False)\n",
       "          (4): Linear(in_features=512, out_features=128, bias=False)\n",
       "        )\n",
       "      )\n",
       "      (10): ModuleList(\n",
       "        (0): CausalAttention(\n",
       "          (norm): LayerNorm((128,), eps=1e-05, elementwise_affine=True)\n",
       "          (dropout): Dropout(p=0.0, inplace=False)\n",
       "          (to_qkv): Linear(in_features=128, out_features=1536, bias=False)\n",
       "          (to_out): Linear(in_features=512, out_features=128, bias=False)\n",
       "        )\n",
       "        (1): Sequential(\n",
       "          (0): LayerNorm((128,), eps=1e-05, elementwise_affine=True)\n",
       "          (1): Linear(in_features=128, out_features=512, bias=False)\n",
       "          (2): GELU(approximate=none)\n",
       "          (3): Dropout(p=0.0, inplace=False)\n",
       "          (4): Linear(in_features=512, out_features=128, bias=False)\n",
       "        )\n",
       "      )\n",
       "      (11): ModuleList(\n",
       "        (0): CausalAttention(\n",
       "          (norm): LayerNorm((128,), eps=1e-05, elementwise_affine=True)\n",
       "          (dropout): Dropout(p=0.0, inplace=False)\n",
       "          (to_qkv): Linear(in_features=128, out_features=1536, bias=False)\n",
       "          (to_out): Linear(in_features=512, out_features=128, bias=False)\n",
       "        )\n",
       "        (1): Sequential(\n",
       "          (0): LayerNorm((128,), eps=1e-05, elementwise_affine=True)\n",
       "          (1): Linear(in_features=128, out_features=512, bias=False)\n",
       "          (2): GELU(approximate=none)\n",
       "          (3): Dropout(p=0.0, inplace=False)\n",
       "          (4): Linear(in_features=512, out_features=128, bias=False)\n",
       "        )\n",
       "      )\n",
       "      (12): ModuleList(\n",
       "        (0): CausalAttention(\n",
       "          (norm): LayerNorm((128,), eps=1e-05, elementwise_affine=True)\n",
       "          (dropout): Dropout(p=0.0, inplace=False)\n",
       "          (to_qkv): Linear(in_features=128, out_features=1536, bias=False)\n",
       "          (to_out): Linear(in_features=512, out_features=128, bias=False)\n",
       "        )\n",
       "        (1): Sequential(\n",
       "          (0): LayerNorm((128,), eps=1e-05, elementwise_affine=True)\n",
       "          (1): Linear(in_features=128, out_features=512, bias=False)\n",
       "          (2): GELU(approximate=none)\n",
       "          (3): Dropout(p=0.0, inplace=False)\n",
       "          (4): Linear(in_features=512, out_features=128, bias=False)\n",
       "        )\n",
       "      )\n",
       "      (13): ModuleList(\n",
       "        (0): CausalAttention(\n",
       "          (norm): LayerNorm((128,), eps=1e-05, elementwise_affine=True)\n",
       "          (dropout): Dropout(p=0.0, inplace=False)\n",
       "          (to_qkv): Linear(in_features=128, out_features=1536, bias=False)\n",
       "          (to_out): Linear(in_features=512, out_features=128, bias=False)\n",
       "        )\n",
       "        (1): Sequential(\n",
       "          (0): LayerNorm((128,), eps=1e-05, elementwise_affine=True)\n",
       "          (1): Linear(in_features=128, out_features=512, bias=False)\n",
       "          (2): GELU(approximate=none)\n",
       "          (3): Dropout(p=0.0, inplace=False)\n",
       "          (4): Linear(in_features=512, out_features=128, bias=False)\n",
       "        )\n",
       "      )\n",
       "      (14): ModuleList(\n",
       "        (0): CausalAttention(\n",
       "          (norm): LayerNorm((128,), eps=1e-05, elementwise_affine=True)\n",
       "          (dropout): Dropout(p=0.0, inplace=False)\n",
       "          (to_qkv): Linear(in_features=128, out_features=1536, bias=False)\n",
       "          (to_out): Linear(in_features=512, out_features=128, bias=False)\n",
       "        )\n",
       "        (1): Sequential(\n",
       "          (0): LayerNorm((128,), eps=1e-05, elementwise_affine=True)\n",
       "          (1): Linear(in_features=128, out_features=512, bias=False)\n",
       "          (2): GELU(approximate=none)\n",
       "          (3): Dropout(p=0.0, inplace=False)\n",
       "          (4): Linear(in_features=512, out_features=128, bias=False)\n",
       "        )\n",
       "      )\n",
       "      (15): ModuleList(\n",
       "        (0): CausalAttention(\n",
       "          (norm): LayerNorm((128,), eps=1e-05, elementwise_affine=True)\n",
       "          (dropout): Dropout(p=0.0, inplace=False)\n",
       "          (to_qkv): Linear(in_features=128, out_features=1536, bias=False)\n",
       "          (to_out): Linear(in_features=512, out_features=128, bias=False)\n",
       "        )\n",
       "        (1): Sequential(\n",
       "          (0): LayerNorm((128,), eps=1e-05, elementwise_affine=True)\n",
       "          (1): Linear(in_features=128, out_features=512, bias=False)\n",
       "          (2): GELU(approximate=none)\n",
       "          (3): Dropout(p=0.0, inplace=False)\n",
       "          (4): Linear(in_features=512, out_features=128, bias=False)\n",
       "        )\n",
       "      )\n",
       "    )\n",
       "    (to_logits): Linear(in_features=128, out_features=121, bias=False)\n",
       "  )\n",
       ")"
      ]
     },
     "execution_count": 3,
     "metadata": {},
     "output_type": "execute_result"
    }
   ],
   "source": [
    "# helpers\n",
    "\n",
    "def cycle(loader):\n",
    "    while True:\n",
    "        for data in loader:\n",
    "            yield data\n",
    "\n",
    "\n",
    "def decode_token(token):\n",
    "    return str(chr(max(32, token)))\n",
    "\n",
    "\n",
    "def decode_tokens(tokens):\n",
    "    return \"\".join(list(map(decode_token, tokens)))\n",
    "\n",
    "'''\n",
    "model = PerceiverAR(\n",
    "    num_tokens = 256,\n",
    "    dim = 512,\n",
    "    depth = 8,\n",
    "    heads = 8,\n",
    "    dim_head = 64,\n",
    "    cross_attn_dropout = 0.5,\n",
    "    max_seq_len = SEQ_LEN,\n",
    "    cross_attn_seq_len = PREFIX_SEQ_LEN\n",
    ")\n",
    "'''\n",
    "\n",
    "model = PerceiverAR(\n",
    "    num_tokens = 121, #974 if not ignoring the different bass note\n",
    "    dim = 128,\n",
    "    depth = 16,\n",
    "    heads = 8,\n",
    "    dim_head = 64,\n",
    "    cross_attn_dropout = 0.6,\n",
    "    max_seq_len = SEQ_LEN,\n",
    "    cross_attn_seq_len = PREFIX_SEQ_LEN\n",
    ")\n",
    "\n",
    "\n",
    "model = AutoregressiveWrapper(model)\n",
    "model.cuda()"
   ]
  },
  {
   "cell_type": "markdown",
   "id": "dac40141-dec5-4e3e-a497-d00c55598e0d",
   "metadata": {},
   "source": [
    "## Loading and Preprocessing the Data"
   ]
  },
  {
   "cell_type": "markdown",
   "id": "3721af3b-20c9-41af-a8c2-bd518d930611",
   "metadata": {},
   "source": [
    "### An approach with own embeddings (that specify the notes that make up a chord)"
   ]
  },
  {
   "cell_type": "code",
   "execution_count": 4,
   "id": "66892629-388f-4d83-b8b4-f02a6d725e7a",
   "metadata": {},
   "outputs": [],
   "source": [
    "temp = open('data/soul_chords.txt','r').read().splitlines()"
   ]
  },
  {
   "cell_type": "code",
   "execution_count": 5,
   "id": "e2fc15c3-8694-41ba-b712-3e74fa894a0d",
   "metadata": {},
   "outputs": [],
   "source": [
    "# Load the lookup for pitch to number translation\n",
    "with open('data/pitch_embedding.json') as d:\n",
    "    pitches = json.load(d)"
   ]
  },
  {
   "cell_type": "code",
   "execution_count": 6,
   "id": "259c8b6b-1ced-4f93-bf85-dcc9f0dd66f1",
   "metadata": {},
   "outputs": [],
   "source": [
    "# Replace the diminished and augmented chord notation to work with the PyChord library\n",
    "chords = [x.replace('o', 'dim') for x in temp]\n",
    "chords = [x.replace('+', 'aug') for x in chords]"
   ]
  },
  {
   "cell_type": "markdown",
   "id": "35f64307-5034-4ab5-a254-60772c723616",
   "metadata": {},
   "source": [
    "#### Ignoring the different bass notes (i.e., assuming the root is in the base) to reduce chord variety"
   ]
  },
  {
   "cell_type": "code",
   "execution_count": 10,
   "id": "0020eb11-d64e-4e00-8974-147a02862223",
   "metadata": {},
   "outputs": [],
   "source": [
    "chords = [re.sub('/.*', '', x) for x in chords]"
   ]
  },
  {
   "cell_type": "code",
   "execution_count": 11,
   "id": "f3b96057-2b74-4410-9473-3e7c59680eaa",
   "metadata": {},
   "outputs": [],
   "source": [
    "def embed_chord(chord):\n",
    "  if chord == 'N':\n",
    "    return [0.0, 0.0, 0.0, 0.0, 0.0]\n",
    "  x = chord\n",
    "  if 'E#' in x:\n",
    "    x = x.replace(\"E#\", \"F\")\n",
    "  if 'B#' in x:\n",
    "    x = x.replace(\"B#\", \"C\")\n",
    "  try:\n",
    "    x = [int(pitches.get(item,item))  for item in Chord(x).components_with_pitch(root_pitch=3)]\n",
    "    x += [0] * (5 - len(x))\n",
    "  except:\n",
    "    x= [0,0,0,0,0]\n",
    "  return x"
   ]
  },
  {
   "cell_type": "code",
   "execution_count": 13,
   "id": "b59288cf-f185-4174-b209-3a7518f5f556",
   "metadata": {},
   "outputs": [
    {
     "data": {
      "text/plain": [
       "120"
      ]
     },
     "execution_count": 13,
     "metadata": {},
     "output_type": "execute_result"
    }
   ],
   "source": [
    "len(set(chords)) #unique chords"
   ]
  },
  {
   "cell_type": "code",
   "execution_count": 14,
   "id": "5e52ba1b-85e8-4cf7-9593-b554ee4d4efb",
   "metadata": {},
   "outputs": [
    {
     "data": {
      "text/plain": [
       "('G', [8, 12, 15, 0, 0])"
      ]
     },
     "execution_count": 14,
     "metadata": {},
     "output_type": "execute_result"
    }
   ],
   "source": [
    "embeddings_index = {ch: embed_chord(ch) for ch in list(set(chords))}\n",
    "list(embeddings_index.items())[0] # an arbitrary example"
   ]
  },
  {
   "cell_type": "code",
   "execution_count": 15,
   "id": "d403a103-8eda-4774-b220-e1dd80838277",
   "metadata": {},
   "outputs": [],
   "source": [
    "# a reverse lookup function to get chords from embeddings \n",
    "inv_embeddings = {\" \".join([str(x) for x in v]): k for k, v in embeddings_index.items()}"
   ]
  },
  {
   "cell_type": "code",
   "execution_count": 49,
   "id": "2fd74878-33db-4872-ac80-6ca17fd479b2",
   "metadata": {
    "scrolled": true,
    "tags": []
   },
   "outputs": [
    {
     "data": {
      "text/plain": [
       "{'12 16 19 22 0': 'B7',\n",
       " '5 9 13 0 0': 'Eaug',\n",
       " '9 13 17 0 0': 'G#aug',\n",
       " '3 8 10 0 0': 'Dsus4',\n",
       " '11 14 17 20 0': 'A#dim7',\n",
       " '3 7 10 14 0': 'DM7',\n",
       " '10 14 18 0 0': 'Aaug',\n",
       " '2 5 8 0 0': 'C#dim',\n",
       " '12 15 19 0 0': 'Bm',\n",
       " '4 9 11 0 0': 'D#sus4',\n",
       " '10 14 17 20 0': 'A7',\n",
       " '5 9 12 0 0': 'E',\n",
       " '8 12 15 0 0': 'G',\n",
       " '2 6 9 13 0': 'C#M7',\n",
       " '5 9 12 15 0': 'E7',\n",
       " '10 14 17 21 0': 'AM7',\n",
       " '3 7 11 0 0': 'Daug',\n",
       " '6 9 13 16 0': 'Fm7',\n",
       " '1 6 8 0 0': 'Csus4',\n",
       " '12 16 20 0 0': 'Baug',\n",
       " '9 12 15 0 0': 'G#dim',\n",
       " '1 3 8 0 0': 'Csus2',\n",
       " '4 7 10 0 0': 'D#dim',\n",
       " '7 10 13 0 0': 'F#dim',\n",
       " '2 4 9 0 0': 'C#sus2',\n",
       " '7 11 14 0 0': 'F#',\n",
       " '6 9 13 0 0': 'Fm',\n",
       " '7 10 13 16 0': 'F#dim7',\n",
       " '11 15 19 0 0': 'A#aug',\n",
       " '6 9 12 15 0': 'Fdim7',\n",
       " '1 5 9 0 0': 'Caug',\n",
       " '4 8 12 0 0': 'D#aug',\n",
       " '4 8 11 15 0': 'D#M7',\n",
       " '5 9 12 16 0': 'EM7',\n",
       " '11 13 18 0 0': 'A#sus2',\n",
       " '9 13 16 0 0': 'G#',\n",
       " '12 15 19 22 0': 'Bm7',\n",
       " '11 14 18 21 0': 'A#m7',\n",
       " '9 12 16 19 0': 'G#m7',\n",
       " '11 14 17 0 0': 'A#dim',\n",
       " '5 7 12 0 0': 'Esus2',\n",
       " '8 11 14 17 0': 'Gdim7',\n",
       " '6 10 13 17 0': 'FM7',\n",
       " '4 6 11 0 0': 'D#sus2',\n",
       " '6 10 13 0 0': 'F',\n",
       " '10 14 17 0 0': 'A',\n",
       " '3 6 9 12 0': 'Ddim7',\n",
       " '10 12 17 0 0': 'Asus2',\n",
       " '11 16 18 0 0': 'A#sus4',\n",
       " '6 10 13 16 0': 'F7',\n",
       " '4 8 11 0 0': 'D#',\n",
       " '6 10 14 0 0': 'Faug',\n",
       " '7 10 14 17 0': 'F#m7',\n",
       " '7 9 14 0 0': 'F#sus2',\n",
       " '8 11 15 18 0': 'Gm7',\n",
       " '1 4 7 10 0': 'Cdim7',\n",
       " '2 5 8 11 0': 'C#dim7',\n",
       " '4 7 10 13 0': 'D#dim7',\n",
       " '6 11 13 0 0': 'Fsus4',\n",
       " '1 4 7 0 0': 'Cdim',\n",
       " '8 12 15 19 0': 'GM7',\n",
       " '8 12 15 18 0': 'G7',\n",
       " '1 4 8 11 0': 'Cm7',\n",
       " '9 11 16 0 0': 'G#sus2',\n",
       " '5 8 11 14 0': 'Edim7',\n",
       " '11 15 18 0 0': 'A#',\n",
       " '7 11 14 18 0': 'F#M7',\n",
       " '8 13 15 0 0': 'Gsus4',\n",
       " '4 7 11 14 0': 'D#m7',\n",
       " '11 14 18 0 0': 'A#m',\n",
       " '5 8 12 0 0': 'Em',\n",
       " '10 15 17 0 0': 'Asus4',\n",
       " '3 6 9 0 0': 'Ddim',\n",
       " '11 15 18 22 0': 'A#M7',\n",
       " '6 8 13 0 0': 'Fsus2',\n",
       " '4 8 11 14 0': 'D#7',\n",
       " '5 8 12 15 0': 'Em7',\n",
       " '9 12 16 0 0': 'G#m',\n",
       " '2 7 9 0 0': 'C#sus4',\n",
       " '12 15 18 0 0': 'Bdim',\n",
       " '10 13 16 0 0': 'Adim',\n",
       " '4 7 11 0 0': 'D#m',\n",
       " '7 12 14 0 0': 'F#sus4',\n",
       " '3 7 10 0 0': 'D',\n",
       " '9 14 16 0 0': 'G#sus4',\n",
       " '3 5 10 0 0': 'Dsus2',\n",
       " '6 9 12 0 0': 'Fdim',\n",
       " '12 15 18 21 0': 'Bdim7',\n",
       " '10 13 17 20 0': 'Am7',\n",
       " '10 13 16 19 0': 'Adim7',\n",
       " '8 11 14 0 0': 'Gdim',\n",
       " '3 6 10 0 0': 'Dm',\n",
       " '12 17 19 0 0': 'Bsus4',\n",
       " '5 10 12 0 0': 'Esus4',\n",
       " '9 13 16 20 0': 'G#M7',\n",
       " '7 10 14 0 0': 'F#m',\n",
       " '12 14 19 0 0': 'Bsus2',\n",
       " '7 11 15 0 0': 'F#aug',\n",
       " '8 10 15 0 0': 'Gsus2',\n",
       " '1 5 8 12 0': 'CM7',\n",
       " '10 13 17 0 0': 'Am',\n",
       " '2 6 9 12 0': 'C#7',\n",
       " '12 16 19 0 0': 'B',\n",
       " '7 11 14 17 0': 'F#7',\n",
       " '2 6 9 0 0': 'C#',\n",
       " '2 6 10 0 0': 'C#aug',\n",
       " '11 15 18 21 0': 'A#7',\n",
       " '3 7 10 13 0': 'D7',\n",
       " '1 5 8 0 0': 'C',\n",
       " '5 8 11 0 0': 'Edim',\n",
       " '1 5 8 11 0': 'C7',\n",
       " '9 12 15 18 0': 'G#dim7',\n",
       " '8 12 16 0 0': 'Gaug',\n",
       " '3 6 10 13 0': 'Dm7',\n",
       " '8 11 15 0 0': 'Gm',\n",
       " '2 5 9 0 0': 'C#m',\n",
       " '2 5 9 12 0': 'C#m7',\n",
       " '12 16 19 23 0': 'BM7',\n",
       " '1 4 8 0 0': 'Cm',\n",
       " '9 13 16 19 0': 'G#7'}"
      ]
     },
     "execution_count": 49,
     "metadata": {},
     "output_type": "execute_result"
    }
   ],
   "source": [
    "inv_embeddings"
   ]
  },
  {
   "cell_type": "code",
   "execution_count": 16,
   "id": "32973a84-46ec-420f-b0bc-3c41c4f136b2",
   "metadata": {},
   "outputs": [],
   "source": [
    "chords_emb = [embed_chord(ch) for ch in chords]"
   ]
  },
  {
   "cell_type": "code",
   "execution_count": 17,
   "id": "65dd1d80-34eb-4fe0-a375-9da8112eaf0b",
   "metadata": {},
   "outputs": [
    {
     "data": {
      "text/plain": [
       "array([[11, 15, 18, 21,  0],\n",
       "       [ 6,  9, 13, 16,  0],\n",
       "       [ 1,  4,  8, 11,  0],\n",
       "       ...,\n",
       "       [ 6, 10, 13, 17,  0],\n",
       "       [11, 15, 18, 22,  0],\n",
       "       [11, 15, 18,  0,  0]], dtype=uint8)"
      ]
     },
     "execution_count": 17,
     "metadata": {},
     "output_type": "execute_result"
    }
   ],
   "source": [
    "chords_emb = np.array(chords_emb, dtype=np.uint8)\n",
    "chords_emb"
   ]
  },
  {
   "cell_type": "code",
   "execution_count": 18,
   "id": "96753fb2-830b-4d16-9394-66b1643f6724",
   "metadata": {},
   "outputs": [],
   "source": [
    "trX, vaX = train_test_split(chords_emb, test_size=0.3, random_state=42)\n",
    "data_train, data_val = torch.from_numpy(trX), torch.from_numpy(vaX)"
   ]
  },
  {
   "cell_type": "code",
   "execution_count": 20,
   "id": "6cddcefa-ba3f-4382-bd9a-162f698a19e7",
   "metadata": {},
   "outputs": [],
   "source": [
    "def decode_tokens(tokens):\n",
    "    tmp = tokens.tolist()\n",
    "    chords = []\n",
    "    for ch in tmp:\n",
    "        chords.append(\" \".join([str(x) for x in ch]))\n",
    "    chords = [inv_embeddings[x] for x in chords]\n",
    "    \n",
    "    return chords"
   ]
  },
  {
   "cell_type": "markdown",
   "id": "ec92f938-3031-472d-bd7e-ce4c22aacf5d",
   "metadata": {},
   "source": [
    "### An approach without custom embeddings (letting the model do its thing)"
   ]
  },
  {
   "cell_type": "code",
   "execution_count": 6,
   "id": "86c47b79-e967-4839-88b0-f654800218f3",
   "metadata": {},
   "outputs": [],
   "source": [
    "temp = open('data/soul_chords.txt','r').read().splitlines()\n",
    "temp = [re.sub('/.*', '', x) for x in temp]\n",
    "\n",
    "lookup_set = list(set(temp))\n",
    "lookup_nr = list(range(0,len(lookup_set)))\n",
    "lookup = {lookup_set[nr]: nr for nr in lookup_nr}\n",
    "\n",
    "inv_lookup = {v: k for k, v in lookup.items()}\n",
    "\n",
    "X = [lookup[x] for x in temp]\n",
    "trX, vaX = train_test_split(np.array(X, dtype=np.uint8), test_size=0.30, random_state=42)\n",
    "data_train, data_val = torch.from_numpy(trX), torch.from_numpy(vaX)"
   ]
  },
  {
   "cell_type": "code",
   "execution_count": 8,
   "id": "260bd3ac-04e6-4861-9f95-595041364136",
   "metadata": {},
   "outputs": [],
   "source": [
    "# Load the dataset (chords from MIDIs) in pickle format\n",
    "chords = pickle.load(open(\"data/soul_chords.pickle\", \"rb\"))\n",
    "\n",
    "chords = [[x[0].replace('o', 'dim') for x in song] for song in chords]\n",
    "chords = [[x.replace('+', 'aug') for x in song] for song in chords]\n",
    "\n",
    "random.shuffle(chords)\n",
    "\n",
    "chords = [x for y in chords for x in y]\n",
    "\n",
    "temp  = [re.sub('/.*', '', x) for x in chords]\n",
    "\n",
    "lookup_set = list(set(temp))\n",
    "lookup_nr = list(range(0,len(lookup_set)))\n",
    "lookup = {lookup_set[nr]: nr for nr in lookup_nr}\n",
    "\n",
    "inv_lookup = {v: k for k, v in lookup.items()}\n",
    "X = [lookup[x] for x in temp]\n",
    "\n",
    "split = int(len(X)*0.8)\n",
    "trX, vaX = np.array(X[0:split], dtype=np.uint8),np.array(X[split:], dtype=np.uint8)\n",
    "data_train, data_val = torch.from_numpy(trX), torch.from_numpy(vaX)"
   ]
  },
  {
   "cell_type": "code",
   "execution_count": 8,
   "id": "ccd006f4-21dd-4b8b-9f74-f15d9b8a91e3",
   "metadata": {},
   "outputs": [],
   "source": [
    "chords = [[x[0].replace('o', 'dim') for x in song] for song in chords]\n",
    "chords = [[x.replace('+', 'aug') for x in song] for song in chords]"
   ]
  },
  {
   "cell_type": "code",
   "execution_count": 9,
   "id": "43196899-7dc4-4b6a-8364-c6b3ab356b8a",
   "metadata": {},
   "outputs": [
    {
     "name": "stdout",
     "output_type": "stream",
     "text": [
      "120\n"
     ]
    }
   ],
   "source": [
    "print(len(set(temp)))"
   ]
  },
  {
   "cell_type": "code",
   "execution_count": 10,
   "id": "891501b7-a927-40b6-a898-e23c1b54bc3f",
   "metadata": {},
   "outputs": [
    {
     "name": "stdout",
     "output_type": "stream",
     "text": [
      "tensor(41, dtype=torch.uint8) 134909\n",
      "tensor(12, dtype=torch.uint8) 33728\n"
     ]
    }
   ],
   "source": [
    "print(data_train[0], len(data_train))\n",
    "print(data_val[0], len(data_val))"
   ]
  },
  {
   "cell_type": "code",
   "execution_count": 11,
   "id": "5412c793-98f1-48e4-94b4-346af3cdec60",
   "metadata": {},
   "outputs": [],
   "source": [
    "def decode_tokens(tokens):\n",
    "    tmp = tokens.tolist()\n",
    "    chords = [inv_lookup[x] for x in tmp]\n",
    "    \n",
    "    return chords"
   ]
  },
  {
   "cell_type": "markdown",
   "id": "7dc43193-f55a-4cba-8d97-cfb13a0f600b",
   "metadata": {},
   "source": [
    "## Training Setup"
   ]
  },
  {
   "cell_type": "code",
   "execution_count": 12,
   "id": "abc56e89-69e2-4578-aa59-bd056b23403b",
   "metadata": {},
   "outputs": [],
   "source": [
    "class TextSamplerDataset(Dataset):\n",
    "    def __init__(self, data, seq_len):\n",
    "        super().__init__()\n",
    "        self.data = data\n",
    "        self.seq_len = seq_len\n",
    "\n",
    "    def __getitem__(self, index):\n",
    "        rand_start = torch.randint(0, self.data.size(0) - self.seq_len, (1,))\n",
    "        full_seq = self.data[rand_start : rand_start + self.seq_len + 1].long()\n",
    "        return full_seq.cuda()\n",
    "\n",
    "    def __len__(self):\n",
    "        return self.data.size(0) // self.seq_len\n"
   ]
  },
  {
   "cell_type": "code",
   "execution_count": 13,
   "id": "2d9a34c8-69ad-4832-aeb5-4dee61fe565d",
   "metadata": {},
   "outputs": [],
   "source": [
    "train_dataset = TextSamplerDataset(data_train, SEQ_LEN)\n",
    "val_dataset = TextSamplerDataset(data_val, SEQ_LEN)\n",
    "train_loader = cycle(DataLoader(train_dataset, batch_size=BATCH_SIZE))\n",
    "val_loader = cycle(DataLoader(val_dataset, batch_size=BATCH_SIZE))"
   ]
  },
  {
   "cell_type": "code",
   "execution_count": 14,
   "id": "b7103df6-b69c-411d-b83c-7baa2c4a602b",
   "metadata": {},
   "outputs": [],
   "source": [
    "optim = torch.optim.Adam(model.parameters(), lr=LEARNING_RATE)"
   ]
  },
  {
   "cell_type": "code",
   "execution_count": 15,
   "id": "f21b0e35-80b1-461f-bbe3-0e1714c80570",
   "metadata": {
    "scrolled": true,
    "tags": []
   },
   "outputs": [
    {
     "name": "stderr",
     "output_type": "stream",
     "text": [
      "training:   0%|                                                                              | 0/10000 [00:00<?, ?it/s]"
     ]
    },
    {
     "name": "stdout",
     "output_type": "stream",
     "text": [
      "training loss: 5.448845386505127\n",
      "validation loss: 5.109672546386719\n",
      "(['B7', 'EM7', 'E', 'B7'], '****************************************************************************************************')\n",
      "['Adim7', 'C#dim']\n"
     ]
    },
    {
     "name": "stderr",
     "output_type": "stream",
     "text": [
      "training:   1%|▋                                                                    | 92/10000 [00:20<35:40,  4.63it/s]"
     ]
    },
    {
     "name": "stdout",
     "output_type": "stream",
     "text": [
      "training loss: 3.5636377334594727\n",
      "validation loss: 3.5302047729492188\n"
     ]
    },
    {
     "name": "stderr",
     "output_type": "stream",
     "text": [
      "training:   2%|█▎                                                                  | 192/10000 [00:40<33:49,  4.83it/s]"
     ]
    },
    {
     "name": "stdout",
     "output_type": "stream",
     "text": [
      "training loss: 3.520721197128296\n",
      "validation loss: 3.5595197677612305\n"
     ]
    },
    {
     "name": "stderr",
     "output_type": "stream",
     "text": [
      "training:   3%|█▉                                                                  | 292/10000 [01:00<33:02,  4.90it/s]"
     ]
    },
    {
     "name": "stdout",
     "output_type": "stream",
     "text": [
      "training loss: 3.3828325271606445\n",
      "validation loss: 3.533877372741699\n"
     ]
    },
    {
     "name": "stderr",
     "output_type": "stream",
     "text": [
      "training:   4%|██▋                                                                 | 392/10000 [01:20<32:29,  4.93it/s]"
     ]
    },
    {
     "name": "stdout",
     "output_type": "stream",
     "text": [
      "training loss: 3.3905887603759766\n",
      "validation loss: 3.588961362838745\n"
     ]
    },
    {
     "name": "stderr",
     "output_type": "stream",
     "text": [
      "training:   5%|███▎                                                                | 492/10000 [01:41<32:09,  4.93it/s]"
     ]
    },
    {
     "name": "stdout",
     "output_type": "stream",
     "text": [
      "training loss: 3.164304494857788\n",
      "validation loss: 3.4512412548065186\n",
      "(['C#M7', 'Fm7', 'Fm', 'A#dim'], '****************************************************************************************************')\n",
      "['G#7', 'C#M7']\n"
     ]
    },
    {
     "name": "stderr",
     "output_type": "stream",
     "text": [
      "training:   6%|████                                                                | 592/10000 [02:01<31:53,  4.92it/s]"
     ]
    },
    {
     "name": "stdout",
     "output_type": "stream",
     "text": [
      "training loss: 3.1034698486328125\n",
      "validation loss: 3.5375072956085205\n"
     ]
    },
    {
     "name": "stderr",
     "output_type": "stream",
     "text": [
      "training:   7%|████▋                                                               | 692/10000 [02:21<31:36,  4.91it/s]"
     ]
    },
    {
     "name": "stdout",
     "output_type": "stream",
     "text": [
      "training loss: 3.2030084133148193\n",
      "validation loss: 3.5593466758728027\n"
     ]
    },
    {
     "name": "stderr",
     "output_type": "stream",
     "text": [
      "training:   8%|█████▍                                                              | 792/10000 [02:42<31:06,  4.93it/s]"
     ]
    },
    {
     "name": "stdout",
     "output_type": "stream",
     "text": [
      "training loss: 3.371645927429199\n",
      "validation loss: 3.1446969509124756\n"
     ]
    },
    {
     "name": "stderr",
     "output_type": "stream",
     "text": [
      "training:   9%|██████                                                              | 892/10000 [03:02<30:48,  4.93it/s]"
     ]
    },
    {
     "name": "stdout",
     "output_type": "stream",
     "text": [
      "training loss: 3.247957468032837\n",
      "validation loss: 3.6569488048553467\n"
     ]
    },
    {
     "name": "stderr",
     "output_type": "stream",
     "text": [
      "training:  10%|██████▋                                                             | 992/10000 [03:22<30:17,  4.96it/s]"
     ]
    },
    {
     "name": "stdout",
     "output_type": "stream",
     "text": [
      "training loss: 3.3002641201019287\n",
      "validation loss: 3.2886171340942383\n",
      "(['Bdim', 'F', 'CM7', 'C'], '****************************************************************************************************')\n",
      "['CM7', 'C7']\n"
     ]
    },
    {
     "name": "stderr",
     "output_type": "stream",
     "text": [
      "training:  11%|███████▎                                                           | 1092/10000 [03:42<30:01,  4.94it/s]"
     ]
    },
    {
     "name": "stdout",
     "output_type": "stream",
     "text": [
      "training loss: 3.118952989578247\n",
      "validation loss: 3.30802059173584\n"
     ]
    },
    {
     "name": "stderr",
     "output_type": "stream",
     "text": [
      "training:  12%|███████▉                                                           | 1192/10000 [04:03<29:43,  4.94it/s]"
     ]
    },
    {
     "name": "stdout",
     "output_type": "stream",
     "text": [
      "training loss: 3.17362904548645\n",
      "validation loss: 3.714118003845215\n"
     ]
    },
    {
     "name": "stderr",
     "output_type": "stream",
     "text": [
      "training:  13%|████████▋                                                          | 1292/10000 [04:23<29:23,  4.94it/s]"
     ]
    },
    {
     "name": "stdout",
     "output_type": "stream",
     "text": [
      "training loss: 3.1618587970733643\n",
      "validation loss: 3.3989508152008057\n"
     ]
    },
    {
     "name": "stderr",
     "output_type": "stream",
     "text": [
      "training:  14%|█████████▎                                                         | 1392/10000 [04:43<29:02,  4.94it/s]"
     ]
    },
    {
     "name": "stdout",
     "output_type": "stream",
     "text": [
      "training loss: 3.0798633098602295\n",
      "validation loss: 3.5752956867218018\n"
     ]
    },
    {
     "name": "stderr",
     "output_type": "stream",
     "text": [
      "training:  15%|█████████▉                                                         | 1492/10000 [05:03<28:39,  4.95it/s]"
     ]
    },
    {
     "name": "stdout",
     "output_type": "stream",
     "text": [
      "training loss: 3.082555055618286\n",
      "validation loss: 3.3012142181396484\n",
      "(['C7', 'Cm7', 'Adim', 'Cm7'], '****************************************************************************************************')\n",
      "['Am', 'Adim']\n"
     ]
    },
    {
     "name": "stderr",
     "output_type": "stream",
     "text": [
      "training:  16%|██████████▋                                                        | 1592/10000 [05:24<28:26,  4.93it/s]"
     ]
    },
    {
     "name": "stdout",
     "output_type": "stream",
     "text": [
      "training loss: 2.9451732635498047\n",
      "validation loss: 3.6709909439086914\n"
     ]
    },
    {
     "name": "stderr",
     "output_type": "stream",
     "text": [
      "training:  17%|███████████▎                                                       | 1692/10000 [05:44<28:00,  4.94it/s]"
     ]
    },
    {
     "name": "stdout",
     "output_type": "stream",
     "text": [
      "training loss: 3.159874200820923\n",
      "validation loss: 3.5433223247528076\n"
     ]
    },
    {
     "name": "stderr",
     "output_type": "stream",
     "text": [
      "training:  18%|████████████                                                       | 1792/10000 [06:04<27:41,  4.94it/s]"
     ]
    },
    {
     "name": "stdout",
     "output_type": "stream",
     "text": [
      "training loss: 2.9047741889953613\n",
      "validation loss: 3.395899772644043\n"
     ]
    },
    {
     "name": "stderr",
     "output_type": "stream",
     "text": [
      "training:  19%|████████████▋                                                      | 1892/10000 [06:25<27:30,  4.91it/s]"
     ]
    },
    {
     "name": "stdout",
     "output_type": "stream",
     "text": [
      "training loss: 2.7826976776123047\n",
      "validation loss: 3.841527223587036\n"
     ]
    },
    {
     "name": "stderr",
     "output_type": "stream",
     "text": [
      "training:  20%|█████████████▎                                                     | 1988/10000 [06:46<28:16,  4.72it/s]"
     ]
    },
    {
     "name": "stdout",
     "output_type": "stream",
     "text": [
      "training loss: 2.9920806884765625\n",
      "validation loss: 3.301839590072632\n",
      "(['A#7', 'C7', 'Dm7', 'Ddim'], '****************************************************************************************************')\n",
      "['Gm7', 'C7']\n"
     ]
    },
    {
     "name": "stderr",
     "output_type": "stream",
     "text": [
      "training:  21%|█████████████▉                                                     | 2082/10000 [07:06<28:43,  4.59it/s]"
     ]
    },
    {
     "name": "stdout",
     "output_type": "stream",
     "text": [
      "training loss: 2.807187080383301\n",
      "validation loss: 3.462675094604492\n"
     ]
    },
    {
     "name": "stderr",
     "output_type": "stream",
     "text": [
      "training:  22%|██████████████▌                                                    | 2177/10000 [07:27<28:01,  4.65it/s]"
     ]
    },
    {
     "name": "stdout",
     "output_type": "stream",
     "text": [
      "training loss: 3.117548942565918\n",
      "validation loss: 3.445192337036133\n"
     ]
    },
    {
     "name": "stderr",
     "output_type": "stream",
     "text": [
      "training:  23%|███████████████▏                                                   | 2275/10000 [07:47<27:13,  4.73it/s]"
     ]
    },
    {
     "name": "stdout",
     "output_type": "stream",
     "text": [
      "training loss: 3.0747222900390625\n",
      "validation loss: 3.318112373352051\n"
     ]
    },
    {
     "name": "stderr",
     "output_type": "stream",
     "text": [
      "training:  24%|███████████████▉                                                   | 2375/10000 [08:07<26:24,  4.81it/s]"
     ]
    },
    {
     "name": "stdout",
     "output_type": "stream",
     "text": [
      "training loss: 2.9711523056030273\n",
      "validation loss: 3.685460090637207\n"
     ]
    },
    {
     "name": "stderr",
     "output_type": "stream",
     "text": [
      "training:  25%|████████████████▌                                                  | 2474/10000 [08:28<25:50,  4.85it/s]"
     ]
    },
    {
     "name": "stdout",
     "output_type": "stream",
     "text": [
      "training loss: 3.1012675762176514\n",
      "validation loss: 3.586355447769165\n",
      "(['C', 'A#m', 'F#M7', 'F#dim'], '****************************************************************************************************')\n",
      "['F#', 'BM7']\n"
     ]
    },
    {
     "name": "stderr",
     "output_type": "stream",
     "text": [
      "training:  26%|█████████████████▏                                                 | 2573/10000 [08:48<25:32,  4.85it/s]"
     ]
    },
    {
     "name": "stdout",
     "output_type": "stream",
     "text": [
      "training loss: 2.828500747680664\n",
      "validation loss: 3.447890043258667\n"
     ]
    },
    {
     "name": "stderr",
     "output_type": "stream",
     "text": [
      "training:  27%|█████████████████▉                                                 | 2672/10000 [09:08<25:02,  4.88it/s]"
     ]
    },
    {
     "name": "stdout",
     "output_type": "stream",
     "text": [
      "training loss: 3.01645827293396\n",
      "validation loss: 3.5151355266571045\n"
     ]
    },
    {
     "name": "stderr",
     "output_type": "stream",
     "text": [
      "training:  28%|██████████████████▌                                                | 2771/10000 [09:29<24:51,  4.85it/s]"
     ]
    },
    {
     "name": "stdout",
     "output_type": "stream",
     "text": [
      "training loss: 2.740443468093872\n",
      "validation loss: 3.56131649017334\n"
     ]
    },
    {
     "name": "stderr",
     "output_type": "stream",
     "text": [
      "training:  29%|███████████████████▏                                               | 2871/10000 [09:49<24:25,  4.87it/s]"
     ]
    },
    {
     "name": "stdout",
     "output_type": "stream",
     "text": [
      "training loss: 2.535263776779175\n",
      "validation loss: 3.3617160320281982\n"
     ]
    },
    {
     "name": "stderr",
     "output_type": "stream",
     "text": [
      "training:  30%|███████████████████▉                                               | 2969/10000 [10:10<24:10,  4.85it/s]"
     ]
    },
    {
     "name": "stdout",
     "output_type": "stream",
     "text": [
      "training loss: 2.7249205112457275\n",
      "validation loss: 3.6015329360961914\n",
      "(['Bm7', 'F#m', 'AM7', 'Bm7'], '****************************************************************************************************')\n",
      "['GM7', 'AM7']\n"
     ]
    },
    {
     "name": "stderr",
     "output_type": "stream",
     "text": [
      "training:  31%|████████████████████▌                                              | 3064/10000 [10:30<24:33,  4.71it/s]"
     ]
    },
    {
     "name": "stdout",
     "output_type": "stream",
     "text": [
      "training loss: 2.9728100299835205\n",
      "validation loss: 3.5374255180358887\n"
     ]
    },
    {
     "name": "stderr",
     "output_type": "stream",
     "text": [
      "training:  32%|█████████████████████▏                                             | 3158/10000 [10:51<24:23,  4.68it/s]"
     ]
    },
    {
     "name": "stdout",
     "output_type": "stream",
     "text": [
      "training loss: 2.4726014137268066\n",
      "validation loss: 3.6121997833251953\n"
     ]
    },
    {
     "name": "stderr",
     "output_type": "stream",
     "text": [
      "training:  33%|█████████████████████▊                                             | 3258/10000 [11:11<23:32,  4.77it/s]"
     ]
    },
    {
     "name": "stdout",
     "output_type": "stream",
     "text": [
      "training loss: 2.761709451675415\n",
      "validation loss: 3.3964149951934814\n"
     ]
    },
    {
     "name": "stderr",
     "output_type": "stream",
     "text": [
      "training:  34%|██████████████████████▍                                            | 3356/10000 [11:32<23:09,  4.78it/s]"
     ]
    },
    {
     "name": "stdout",
     "output_type": "stream",
     "text": [
      "training loss: 2.655526876449585\n",
      "validation loss: 3.4931561946868896\n"
     ]
    },
    {
     "name": "stderr",
     "output_type": "stream",
     "text": [
      "training:  35%|███████████████████████▏                                           | 3454/10000 [11:52<22:41,  4.81it/s]"
     ]
    },
    {
     "name": "stdout",
     "output_type": "stream",
     "text": [
      "training loss: 2.7532360553741455\n",
      "validation loss: 3.562941789627075\n",
      "(['G', 'A', 'C#m7', 'AM7'], '****************************************************************************************************')\n",
      "['Bm7', 'E']\n"
     ]
    },
    {
     "name": "stderr",
     "output_type": "stream",
     "text": [
      "training:  36%|████████████████████████▏                                          | 3601/10000 [12:22<22:03,  4.83it/s]"
     ]
    },
    {
     "name": "stdout",
     "output_type": "stream",
     "text": [
      "training loss: 2.5877771377563477\n",
      "validation loss: 3.662142515182495\n"
     ]
    },
    {
     "name": "stderr",
     "output_type": "stream",
     "text": [
      "training:  37%|████████████████████████▊                                          | 3700/10000 [12:43<21:45,  4.83it/s]"
     ]
    },
    {
     "name": "stdout",
     "output_type": "stream",
     "text": [
      "training loss: 2.692068099975586\n",
      "validation loss: 3.7908389568328857\n"
     ]
    },
    {
     "name": "stderr",
     "output_type": "stream",
     "text": [
      "training:  38%|█████████████████████████▍                                         | 3797/10000 [13:03<21:26,  4.82it/s]"
     ]
    },
    {
     "name": "stdout",
     "output_type": "stream",
     "text": [
      "training loss: 2.394991397857666\n",
      "validation loss: 3.466324806213379\n"
     ]
    },
    {
     "name": "stderr",
     "output_type": "stream",
     "text": [
      "training:  39%|██████████████████████████                                         | 3895/10000 [13:23<21:03,  4.83it/s]"
     ]
    },
    {
     "name": "stdout",
     "output_type": "stream",
     "text": [
      "training loss: 2.6037352085113525\n",
      "validation loss: 3.428720474243164\n"
     ]
    },
    {
     "name": "stderr",
     "output_type": "stream",
     "text": [
      "training:  40%|██████████████████████████▋                                        | 3992/10000 [13:44<20:51,  4.80it/s]"
     ]
    },
    {
     "name": "stdout",
     "output_type": "stream",
     "text": [
      "training loss: 2.3709731101989746\n",
      "validation loss: 3.40653133392334\n",
      "(['G7', 'C', 'C', 'F7'], '****************************************************************************************************')\n",
      "['G', 'F7']\n"
     ]
    },
    {
     "name": "stderr",
     "output_type": "stream",
     "text": [
      "training:  41%|███████████████████████████▍                                       | 4089/10000 [14:04<20:30,  4.80it/s]"
     ]
    },
    {
     "name": "stdout",
     "output_type": "stream",
     "text": [
      "training loss: 2.460252523422241\n",
      "validation loss: 3.487990379333496\n"
     ]
    },
    {
     "name": "stderr",
     "output_type": "stream",
     "text": [
      "training:  42%|████████████████████████████                                       | 4187/10000 [14:24<20:04,  4.83it/s]"
     ]
    },
    {
     "name": "stdout",
     "output_type": "stream",
     "text": [
      "training loss: 2.233926773071289\n",
      "validation loss: 3.6748058795928955\n"
     ]
    },
    {
     "name": "stderr",
     "output_type": "stream",
     "text": [
      "training:  43%|████████████████████████████▋                                      | 4285/10000 [14:44<19:40,  4.84it/s]"
     ]
    },
    {
     "name": "stdout",
     "output_type": "stream",
     "text": [
      "training loss: 2.258086919784546\n",
      "validation loss: 3.6207993030548096\n"
     ]
    },
    {
     "name": "stderr",
     "output_type": "stream",
     "text": [
      "training:  44%|█████████████████████████████▎                                     | 4383/10000 [15:05<19:23,  4.83it/s]"
     ]
    },
    {
     "name": "stdout",
     "output_type": "stream",
     "text": [
      "training loss: 2.5057034492492676\n",
      "validation loss: 3.8787364959716797\n"
     ]
    },
    {
     "name": "stderr",
     "output_type": "stream",
     "text": [
      "training:  45%|██████████████████████████████                                     | 4480/10000 [15:25<19:15,  4.78it/s]"
     ]
    },
    {
     "name": "stdout",
     "output_type": "stream",
     "text": [
      "training loss: 2.454847574234009\n",
      "validation loss: 3.6510846614837646\n",
      "(['Cm7', 'Gm7', 'Cm', 'Gm7'], '****************************************************************************************************')\n",
      "['Gm7', 'A#M7']\n"
     ]
    },
    {
     "name": "stderr",
     "output_type": "stream",
     "text": [
      "training:  46%|██████████████████████████████▋                                    | 4575/10000 [15:46<19:09,  4.72it/s]"
     ]
    },
    {
     "name": "stdout",
     "output_type": "stream",
     "text": [
      "training loss: 2.417909860610962\n",
      "validation loss: 3.6396677494049072\n"
     ]
    },
    {
     "name": "stderr",
     "output_type": "stream",
     "text": [
      "training:  47%|███████████████████████████████▎                                   | 4670/10000 [16:06<18:47,  4.73it/s]"
     ]
    },
    {
     "name": "stdout",
     "output_type": "stream",
     "text": [
      "training loss: 2.523170232772827\n",
      "validation loss: 3.5624444484710693\n"
     ]
    },
    {
     "name": "stderr",
     "output_type": "stream",
     "text": [
      "training:  48%|███████████████████████████████▉                                   | 4768/10000 [16:26<18:16,  4.77it/s]"
     ]
    },
    {
     "name": "stdout",
     "output_type": "stream",
     "text": [
      "training loss: 2.3122148513793945\n",
      "validation loss: 3.6167972087860107\n"
     ]
    },
    {
     "name": "stderr",
     "output_type": "stream",
     "text": [
      "training:  49%|████████████████████████████████▌                                  | 4866/10000 [16:46<17:53,  4.78it/s]"
     ]
    },
    {
     "name": "stdout",
     "output_type": "stream",
     "text": [
      "training loss: 2.2645606994628906\n",
      "validation loss: 3.7420387268066406\n"
     ]
    },
    {
     "name": "stderr",
     "output_type": "stream",
     "text": [
      "training:  50%|█████████████████████████████████▎                                 | 4964/10000 [17:07<17:26,  4.81it/s]"
     ]
    },
    {
     "name": "stdout",
     "output_type": "stream",
     "text": [
      "training loss: 2.447530746459961\n",
      "validation loss: 3.7602105140686035\n",
      "(['C#7', 'F#sus4', 'F#M7', 'F#'], '****************************************************************************************************')\n",
      "['F#M7', 'G#m']\n"
     ]
    },
    {
     "name": "stderr",
     "output_type": "stream",
     "text": [
      "training:  51%|█████████████████████████████████▉                                 | 5062/10000 [17:27<17:00,  4.84it/s]"
     ]
    },
    {
     "name": "stdout",
     "output_type": "stream",
     "text": [
      "training loss: 2.325312852859497\n",
      "validation loss: 4.13566255569458\n"
     ]
    },
    {
     "name": "stderr",
     "output_type": "stream",
     "text": [
      "training:  52%|██████████████████████████████████▌                                | 5160/10000 [17:47<16:35,  4.86it/s]"
     ]
    },
    {
     "name": "stdout",
     "output_type": "stream",
     "text": [
      "training loss: 2.3347623348236084\n",
      "validation loss: 3.7983596324920654\n"
     ]
    },
    {
     "name": "stderr",
     "output_type": "stream",
     "text": [
      "training:  53%|███████████████████████████████████▏                               | 5259/10000 [18:07<16:09,  4.89it/s]"
     ]
    },
    {
     "name": "stdout",
     "output_type": "stream",
     "text": [
      "training loss: 2.1612446308135986\n",
      "validation loss: 3.666431427001953\n"
     ]
    },
    {
     "name": "stderr",
     "output_type": "stream",
     "text": [
      "training:  54%|███████████████████████████████████▉                               | 5359/10000 [18:27<15:47,  4.90it/s]"
     ]
    },
    {
     "name": "stdout",
     "output_type": "stream",
     "text": [
      "training loss: 2.257296323776245\n",
      "validation loss: 4.083817958831787\n"
     ]
    },
    {
     "name": "stderr",
     "output_type": "stream",
     "text": [
      "training:  55%|████████████████████████████████████▌                              | 5459/10000 [18:48<15:25,  4.91it/s]"
     ]
    },
    {
     "name": "stdout",
     "output_type": "stream",
     "text": [
      "training loss: 2.314633369445801\n",
      "validation loss: 3.737484931945801\n",
      "(['Fm7', 'G#', 'C#M7', 'G#'], '****************************************************************************************************')\n",
      "['Cm7', 'G#']\n"
     ]
    },
    {
     "name": "stderr",
     "output_type": "stream",
     "text": [
      "training:  56%|█████████████████████████████████████▏                             | 5559/10000 [19:08<15:04,  4.91it/s]"
     ]
    },
    {
     "name": "stdout",
     "output_type": "stream",
     "text": [
      "training loss: 2.161168336868286\n",
      "validation loss: 3.999681234359741\n"
     ]
    },
    {
     "name": "stderr",
     "output_type": "stream",
     "text": [
      "training:  57%|█████████████████████████████████████▉                             | 5659/10000 [19:28<14:43,  4.91it/s]"
     ]
    },
    {
     "name": "stdout",
     "output_type": "stream",
     "text": [
      "training loss: 2.3989531993865967\n",
      "validation loss: 3.825885772705078\n"
     ]
    },
    {
     "name": "stderr",
     "output_type": "stream",
     "text": [
      "training:  58%|██████████████████████████████████████▌                            | 5759/10000 [19:49<14:22,  4.92it/s]"
     ]
    },
    {
     "name": "stdout",
     "output_type": "stream",
     "text": [
      "training loss: 2.401141881942749\n",
      "validation loss: 3.6086809635162354\n"
     ]
    },
    {
     "name": "stderr",
     "output_type": "stream",
     "text": [
      "training:  59%|███████████████████████████████████████▎                           | 5859/10000 [20:09<14:02,  4.92it/s]"
     ]
    },
    {
     "name": "stdout",
     "output_type": "stream",
     "text": [
      "training loss: 2.2056961059570312\n",
      "validation loss: 3.9318275451660156\n"
     ]
    },
    {
     "name": "stderr",
     "output_type": "stream",
     "text": [
      "training:  60%|███████████████████████████████████████▉                           | 5959/10000 [20:30<13:42,  4.91it/s]"
     ]
    },
    {
     "name": "stdout",
     "output_type": "stream",
     "text": [
      "training loss: 2.173673391342163\n",
      "validation loss: 3.575629949569702\n",
      "(['CM7', 'Daug', 'GM7', 'CM7'], '****************************************************************************************************')\n",
      "['G', 'B']\n"
     ]
    },
    {
     "name": "stderr",
     "output_type": "stream",
     "text": [
      "training:  61%|████████████████████████████████████████▌                          | 6059/10000 [20:50<13:22,  4.91it/s]"
     ]
    },
    {
     "name": "stdout",
     "output_type": "stream",
     "text": [
      "training loss: 2.057257652282715\n",
      "validation loss: 3.969864845275879\n"
     ]
    },
    {
     "name": "stderr",
     "output_type": "stream",
     "text": [
      "training:  62%|█████████████████████████████████████████▎                         | 6159/10000 [21:10<13:01,  4.91it/s]"
     ]
    },
    {
     "name": "stdout",
     "output_type": "stream",
     "text": [
      "training loss: 2.1024229526519775\n",
      "validation loss: 4.129100322723389\n"
     ]
    },
    {
     "name": "stderr",
     "output_type": "stream",
     "text": [
      "training:  63%|█████████████████████████████████████████▉                         | 6259/10000 [21:31<12:42,  4.91it/s]"
     ]
    },
    {
     "name": "stdout",
     "output_type": "stream",
     "text": [
      "training loss: 2.3087353706359863\n",
      "validation loss: 3.5848586559295654\n"
     ]
    },
    {
     "name": "stderr",
     "output_type": "stream",
     "text": [
      "training:  64%|██████████████████████████████████████████▌                        | 6358/10000 [21:51<12:22,  4.90it/s]"
     ]
    },
    {
     "name": "stdout",
     "output_type": "stream",
     "text": [
      "training loss: 1.9394086599349976\n",
      "validation loss: 3.948714256286621\n"
     ]
    },
    {
     "name": "stderr",
     "output_type": "stream",
     "text": [
      "training:  65%|███████████████████████████████████████████▎                       | 6458/10000 [22:11<12:01,  4.91it/s]"
     ]
    },
    {
     "name": "stdout",
     "output_type": "stream",
     "text": [
      "training loss: 2.239896059036255\n",
      "validation loss: 3.878621816635132\n",
      "(['A#m7', 'D#M7', 'G#', 'D#sus2'], '****************************************************************************************************')\n",
      "['D#', 'D#M7']\n"
     ]
    },
    {
     "name": "stderr",
     "output_type": "stream",
     "text": [
      "training:  66%|███████████████████████████████████████████▉                       | 6558/10000 [22:32<11:40,  4.91it/s]"
     ]
    },
    {
     "name": "stdout",
     "output_type": "stream",
     "text": [
      "training loss: 2.0338399410247803\n",
      "validation loss: 4.300795078277588\n"
     ]
    },
    {
     "name": "stderr",
     "output_type": "stream",
     "text": [
      "training:  67%|████████████████████████████████████████████▌                      | 6658/10000 [22:52<11:19,  4.92it/s]"
     ]
    },
    {
     "name": "stdout",
     "output_type": "stream",
     "text": [
      "training loss: 2.1866652965545654\n",
      "validation loss: 3.9076263904571533\n"
     ]
    },
    {
     "name": "stderr",
     "output_type": "stream",
     "text": [
      "training:  68%|█████████████████████████████████████████████▎                     | 6757/10000 [23:13<11:12,  4.82it/s]"
     ]
    },
    {
     "name": "stdout",
     "output_type": "stream",
     "text": [
      "training loss: 2.0373435020446777\n",
      "validation loss: 3.8474464416503906\n"
     ]
    },
    {
     "name": "stderr",
     "output_type": "stream",
     "text": [
      "training:  69%|█████████████████████████████████████████████▉                     | 6857/10000 [23:33<10:45,  4.87it/s]"
     ]
    },
    {
     "name": "stdout",
     "output_type": "stream",
     "text": [
      "training loss: 2.0904974937438965\n",
      "validation loss: 4.013378620147705\n"
     ]
    },
    {
     "name": "stderr",
     "output_type": "stream",
     "text": [
      "training:  70%|██████████████████████████████████████████████▌                    | 6957/10000 [23:53<10:22,  4.89it/s]"
     ]
    },
    {
     "name": "stdout",
     "output_type": "stream",
     "text": [
      "training loss: 1.9146443605422974\n",
      "validation loss: 3.996220827102661\n",
      "(['D7', 'GM7', 'Bm', 'CM7'], '****************************************************************************************************')\n",
      "['G', 'CM7']\n"
     ]
    },
    {
     "name": "stderr",
     "output_type": "stream",
     "text": [
      "training:  71%|███████████████████████████████████████████████▌                   | 7101/10000 [24:25<10:12,  4.73it/s]"
     ]
    },
    {
     "name": "stdout",
     "output_type": "stream",
     "text": [
      "training loss: 1.8938900232315063\n",
      "validation loss: 4.108184337615967\n"
     ]
    },
    {
     "name": "stderr",
     "output_type": "stream",
     "text": [
      "training:  72%|████████████████████████████████████████████████▏                  | 7199/10000 [24:45<09:45,  4.79it/s]"
     ]
    },
    {
     "name": "stdout",
     "output_type": "stream",
     "text": [
      "training loss: 2.0644638538360596\n",
      "validation loss: 3.576327323913574\n"
     ]
    },
    {
     "name": "stderr",
     "output_type": "stream",
     "text": [
      "training:  73%|████████████████████████████████████████████████▉                  | 7296/10000 [25:05<09:30,  4.74it/s]"
     ]
    },
    {
     "name": "stdout",
     "output_type": "stream",
     "text": [
      "training loss: 2.1512341499328613\n",
      "validation loss: 4.227970600128174\n"
     ]
    },
    {
     "name": "stderr",
     "output_type": "stream",
     "text": [
      "training:  74%|█████████████████████████████████████████████████▌                 | 7396/10000 [25:26<08:58,  4.83it/s]"
     ]
    },
    {
     "name": "stdout",
     "output_type": "stream",
     "text": [
      "training loss: 2.1400158405303955\n",
      "validation loss: 3.9992544651031494\n"
     ]
    },
    {
     "name": "stderr",
     "output_type": "stream",
     "text": [
      "training:  75%|██████████████████████████████████████████████████▏                | 7495/10000 [25:46<08:37,  4.84it/s]"
     ]
    },
    {
     "name": "stdout",
     "output_type": "stream",
     "text": [
      "training loss: 2.1041297912597656\n",
      "validation loss: 3.9454281330108643\n",
      "(['CM7', 'CM7', 'Edim', 'Edim'], '****************************************************************************************************')\n",
      "['A', 'Edim']\n"
     ]
    },
    {
     "name": "stderr",
     "output_type": "stream",
     "text": [
      "training:  76%|██████████████████████████████████████████████████▊                | 7593/10000 [26:06<08:16,  4.84it/s]"
     ]
    },
    {
     "name": "stdout",
     "output_type": "stream",
     "text": [
      "training loss: 1.9909887313842773\n",
      "validation loss: 4.05290412902832\n"
     ]
    },
    {
     "name": "stderr",
     "output_type": "stream",
     "text": [
      "training:  77%|███████████████████████████████████████████████████▌               | 7692/10000 [26:27<07:53,  4.87it/s]"
     ]
    },
    {
     "name": "stdout",
     "output_type": "stream",
     "text": [
      "training loss: 1.9977883100509644\n",
      "validation loss: 3.8486993312835693\n"
     ]
    },
    {
     "name": "stderr",
     "output_type": "stream",
     "text": [
      "training:  78%|████████████████████████████████████████████████████▏              | 7792/10000 [26:47<07:30,  4.90it/s]"
     ]
    },
    {
     "name": "stdout",
     "output_type": "stream",
     "text": [
      "training loss: 1.7639098167419434\n",
      "validation loss: 4.130814552307129\n"
     ]
    },
    {
     "name": "stderr",
     "output_type": "stream",
     "text": [
      "training:  79%|████████████████████████████████████████████████████▉              | 7892/10000 [27:07<07:09,  4.91it/s]"
     ]
    },
    {
     "name": "stdout",
     "output_type": "stream",
     "text": [
      "training loss: 2.1161105632781982\n",
      "validation loss: 4.178129196166992\n"
     ]
    },
    {
     "name": "stderr",
     "output_type": "stream",
     "text": [
      "training:  80%|█████████████████████████████████████████████████████▌             | 7992/10000 [27:28<06:48,  4.92it/s]"
     ]
    },
    {
     "name": "stdout",
     "output_type": "stream",
     "text": [
      "training loss: 1.5935395956039429\n",
      "validation loss: 4.248739242553711\n",
      "(['D7', 'D', 'Am7', 'D'], '****************************************************************************************************')\n",
      "['A', 'A7']\n"
     ]
    },
    {
     "name": "stderr",
     "output_type": "stream",
     "text": [
      "training:  81%|██████████████████████████████████████████████████████▏            | 8092/10000 [27:48<06:28,  4.91it/s]"
     ]
    },
    {
     "name": "stdout",
     "output_type": "stream",
     "text": [
      "training loss: 2.1196978092193604\n",
      "validation loss: 4.388339519500732\n"
     ]
    },
    {
     "name": "stderr",
     "output_type": "stream",
     "text": [
      "training:  82%|██████████████████████████████████████████████████████▉            | 8192/10000 [28:08<06:06,  4.93it/s]"
     ]
    },
    {
     "name": "stdout",
     "output_type": "stream",
     "text": [
      "training loss: 1.8074244260787964\n",
      "validation loss: 3.96450138092041\n"
     ]
    },
    {
     "name": "stderr",
     "output_type": "stream",
     "text": [
      "training:  83%|███████████████████████████████████████████████████████▌           | 8292/10000 [28:28<05:46,  4.93it/s]"
     ]
    },
    {
     "name": "stdout",
     "output_type": "stream",
     "text": [
      "training loss: 2.083991765975952\n",
      "validation loss: 4.403730392456055\n"
     ]
    },
    {
     "name": "stderr",
     "output_type": "stream",
     "text": [
      "training:  84%|████████████████████████████████████████████████████████▏          | 8392/10000 [28:49<05:26,  4.92it/s]"
     ]
    },
    {
     "name": "stdout",
     "output_type": "stream",
     "text": [
      "training loss: 1.7692843675613403\n",
      "validation loss: 4.182260036468506\n"
     ]
    },
    {
     "name": "stderr",
     "output_type": "stream",
     "text": [
      "training:  85%|████████████████████████████████████████████████████████▉          | 8492/10000 [29:09<05:06,  4.92it/s]"
     ]
    },
    {
     "name": "stdout",
     "output_type": "stream",
     "text": [
      "training loss: 1.8615082502365112\n",
      "validation loss: 4.221686840057373\n",
      "(['Baug', 'B', 'C#aug', 'A#M7'], '****************************************************************************************************')\n",
      "['A#m', 'A#M7']\n"
     ]
    },
    {
     "name": "stderr",
     "output_type": "stream",
     "text": [
      "training:  86%|█████████████████████████████████████████████████████████▌         | 8592/10000 [29:29<04:45,  4.93it/s]"
     ]
    },
    {
     "name": "stdout",
     "output_type": "stream",
     "text": [
      "training loss: 2.0659444332122803\n",
      "validation loss: 4.189205169677734\n"
     ]
    },
    {
     "name": "stderr",
     "output_type": "stream",
     "text": [
      "training:  87%|██████████████████████████████████████████████████████████▏        | 8692/10000 [29:50<04:25,  4.92it/s]"
     ]
    },
    {
     "name": "stdout",
     "output_type": "stream",
     "text": [
      "training loss: 1.8083473443984985\n",
      "validation loss: 3.9739186763763428\n"
     ]
    },
    {
     "name": "stderr",
     "output_type": "stream",
     "text": [
      "training:  88%|██████████████████████████████████████████████████████████▉        | 8792/10000 [30:10<04:05,  4.92it/s]"
     ]
    },
    {
     "name": "stdout",
     "output_type": "stream",
     "text": [
      "training loss: 1.7238572835922241\n",
      "validation loss: 4.160836219787598\n"
     ]
    },
    {
     "name": "stderr",
     "output_type": "stream",
     "text": [
      "training:  89%|███████████████████████████████████████████████████████████▌       | 8892/10000 [30:30<03:45,  4.92it/s]"
     ]
    },
    {
     "name": "stdout",
     "output_type": "stream",
     "text": [
      "training loss: 1.6242971420288086\n",
      "validation loss: 3.7629919052124023\n"
     ]
    },
    {
     "name": "stderr",
     "output_type": "stream",
     "text": [
      "training:  90%|████████████████████████████████████████████████████████████▏      | 8991/10000 [30:51<03:26,  4.89it/s]"
     ]
    },
    {
     "name": "stdout",
     "output_type": "stream",
     "text": [
      "training loss: 1.8526463508605957\n",
      "validation loss: 4.31276798248291\n",
      "(['D#m7', 'G#m', 'BM7', 'D#m7'], '****************************************************************************************************')\n",
      "['D#m', 'C#']\n"
     ]
    },
    {
     "name": "stderr",
     "output_type": "stream",
     "text": [
      "training:  91%|████████████████████████████████████████████████████████████▉      | 9091/10000 [31:11<03:05,  4.91it/s]"
     ]
    },
    {
     "name": "stdout",
     "output_type": "stream",
     "text": [
      "training loss: 1.7991302013397217\n",
      "validation loss: 4.231791019439697\n"
     ]
    },
    {
     "name": "stderr",
     "output_type": "stream",
     "text": [
      "training:  92%|█████████████████████████████████████████████████████████████▌     | 9190/10000 [31:32<02:46,  4.85it/s]"
     ]
    },
    {
     "name": "stdout",
     "output_type": "stream",
     "text": [
      "training loss: 1.9418405294418335\n",
      "validation loss: 3.324223756790161\n"
     ]
    },
    {
     "name": "stderr",
     "output_type": "stream",
     "text": [
      "training:  93%|██████████████████████████████████████████████████████████████▏    | 9288/10000 [31:52<02:26,  4.85it/s]"
     ]
    },
    {
     "name": "stdout",
     "output_type": "stream",
     "text": [
      "training loss: 1.7919549942016602\n",
      "validation loss: 4.010268688201904\n"
     ]
    },
    {
     "name": "stderr",
     "output_type": "stream",
     "text": [
      "training:  94%|██████████████████████████████████████████████████████████████▉    | 9386/10000 [32:13<02:07,  4.80it/s]"
     ]
    },
    {
     "name": "stdout",
     "output_type": "stream",
     "text": [
      "training loss: 1.84423828125\n",
      "validation loss: 4.6943440437316895\n"
     ]
    },
    {
     "name": "stderr",
     "output_type": "stream",
     "text": [
      "training:  95%|███████████████████████████████████████████████████████████████▌   | 9486/10000 [32:33<01:45,  4.87it/s]"
     ]
    },
    {
     "name": "stdout",
     "output_type": "stream",
     "text": [
      "training loss: 1.8504031896591187\n",
      "validation loss: 4.065247058868408\n",
      "(['E', 'C#m7', 'E', 'CM7'], '****************************************************************************************************')\n",
      "['B', 'B7']\n"
     ]
    },
    {
     "name": "stderr",
     "output_type": "stream",
     "text": [
      "training:  96%|████████████████████████████████████████████████████████████████▏  | 9585/10000 [32:53<01:25,  4.85it/s]"
     ]
    },
    {
     "name": "stdout",
     "output_type": "stream",
     "text": [
      "training loss: 1.8170384168624878\n",
      "validation loss: 4.431827068328857\n"
     ]
    },
    {
     "name": "stderr",
     "output_type": "stream",
     "text": [
      "training:  97%|████████████████████████████████████████████████████████████████▉  | 9683/10000 [33:14<01:05,  4.86it/s]"
     ]
    },
    {
     "name": "stdout",
     "output_type": "stream",
     "text": [
      "training loss: 1.818428874015808\n",
      "validation loss: 4.111574649810791\n"
     ]
    },
    {
     "name": "stderr",
     "output_type": "stream",
     "text": [
      "training:  98%|█████████████████████████████████████████████████████████████████▌ | 9781/10000 [33:34<00:45,  4.85it/s]"
     ]
    },
    {
     "name": "stdout",
     "output_type": "stream",
     "text": [
      "training loss: 1.6337765455245972\n",
      "validation loss: 3.973446846008301\n"
     ]
    },
    {
     "name": "stderr",
     "output_type": "stream",
     "text": [
      "training:  99%|██████████████████████████████████████████████████████████████████▏| 9879/10000 [33:54<00:24,  4.85it/s]"
     ]
    },
    {
     "name": "stdout",
     "output_type": "stream",
     "text": [
      "training loss: 1.9391199350357056\n",
      "validation loss: 3.879714250564575\n"
     ]
    },
    {
     "name": "stderr",
     "output_type": "stream",
     "text": [
      "training: 100%|██████████████████████████████████████████████████████████████████| 10000/10000 [34:19<00:00,  4.86it/s]\n"
     ]
    }
   ],
   "source": [
    "# training\n",
    "\n",
    "for i in tqdm.tqdm(range(NUM_BATCHES), mininterval=10.0, desc=\"training\"):\n",
    "    model.train()\n",
    "\n",
    "    for __ in range(GRADIENT_ACCUMULATE_EVERY):\n",
    "        loss = model(next(train_loader))\n",
    "        loss.backward()\n",
    "\n",
    "    # print(f\"training loss: {loss.item()}\")\n",
    "    torch.nn.utils.clip_grad_norm_(model.parameters(), 0.5)\n",
    "    optim.step()\n",
    "    optim.zero_grad()\n",
    "\n",
    "    if i % VALIDATE_EVERY == 0:\n",
    "        print(f\"training loss: {loss.item()}\")\n",
    "        model.eval()\n",
    "        with torch.no_grad():\n",
    "            loss = model(next(val_loader))\n",
    "            print(f\"validation loss: {loss.item()}\")\n",
    "\n",
    "    if i % GENERATE_EVERY == 0:\n",
    "        model.eval()\n",
    "        inp = random.choice(val_dataset)[:-1]\n",
    "        prime = decode_tokens(inp)\n",
    "        print((prime, \"*\" * 100))\n",
    "\n",
    "        sample = model.generate(inp[None, ...], GENERATE_LENGTH)\n",
    "        #print(sample[0])\n",
    "        output_str = decode_tokens(sample[0])\n",
    "        print(output_str)"
   ]
  },
  {
   "cell_type": "code",
   "execution_count": 16,
   "id": "6f358afa-f912-4626-a6d7-a270a6bfaf17",
   "metadata": {},
   "outputs": [],
   "source": [
    "import pickle\n",
    "pickle.dump(model, open( \"model.p\", \"wb\"))"
   ]
  },
  {
   "cell_type": "code",
   "execution_count": 45,
   "id": "ba1c1acd-b72c-430b-a4f3-ed58ea074e29",
   "metadata": {},
   "outputs": [],
   "source": [
    "def chord_prog(prompt):\n",
    "    inp = prompt.split(\" \")\n",
    "    inp = np.array([lookup[x] for x in inp], dtype=np.uint8)\n",
    "    inp = torch.from_numpy(inp)\n",
    "    inp = TextSamplerDataset(inp, SEQ_LEN)\n",
    "    inp = inp[0]\n",
    "    out = model.generate(inp[None, ...], 4)\n",
    "    return decode_tokens(out[0])"
   ]
  },
  {
   "cell_type": "code",
   "execution_count": null,
   "id": "5607a5a2-5823-45a9-803e-26fbfa3e042d",
   "metadata": {},
   "outputs": [],
   "source": [
    "class TextSamplerDataset(Dataset):\n",
    "    def __init__(self, data, seq_len):\n",
    "        super().__init__()\n",
    "        self.data = data\n",
    "        self.seq_len = 3\n",
    "\n",
    "    def __getitem__(self, index):\n",
    "        rand_start = torch.randint(0, self.data.size(0) - self.seq_len, (1,))\n",
    "        full_seq = self.data[rand_start : rand_start + self.seq_len + 1].long()\n",
    "        return full_seq.cuda()\n",
    "\n",
    "    def __len__(self):\n",
    "        return self.data.size(0) // self.seq_len"
   ]
  },
  {
   "cell_type": "code",
   "execution_count": 51,
   "id": "1fe9f150-b979-4d7d-8ca3-e4ad1a26f10a",
   "metadata": {},
   "outputs": [
    {
     "name": "stdout",
     "output_type": "stream",
     "text": [
      "['Am7', 'Dm7', 'C7', 'C']\n",
      "['Am7', 'Dm7', 'Am7', 'Dm7']\n",
      "['C7', 'C', 'G', 'Em7']\n",
      "['Am7', 'Dm7', 'Am7', 'Dm7']\n",
      "['CM7', 'Dm7', 'Edim', 'Gm7']\n",
      "['Am7', 'Dm7', 'Am7', 'Dm7']\n",
      "['GM7', 'FM7', 'Em7', 'Gm7']\n",
      "['C7', 'C', 'F#dim', 'F#dim']\n",
      "['GM7', 'FM7', 'Em7', 'Gm7']\n",
      "['Am7', 'Dm7', 'Am7', 'Dm7']\n"
     ]
    }
   ],
   "source": [
    "for i in range(0,10):\n",
    "    print(chord_prog(\"Am7 Dm7 Am7 Dm7\"))"
   ]
  }
 ],
 "metadata": {
  "kernelspec": {
   "display_name": "Python 3",
   "language": "python",
   "name": "python3"
  },
  "language_info": {
   "codemirror_mode": {
    "name": "ipython",
    "version": 3
   },
   "file_extension": ".py",
   "mimetype": "text/x-python",
   "name": "python",
   "nbconvert_exporter": "python",
   "pygments_lexer": "ipython3",
   "version": "3.7.13"
  }
 },
 "nbformat": 4,
 "nbformat_minor": 5
}
