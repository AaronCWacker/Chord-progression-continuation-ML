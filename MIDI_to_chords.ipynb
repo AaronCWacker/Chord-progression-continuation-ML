{
  "nbformat": 4,
  "nbformat_minor": 0,
  "metadata": {
    "colab": {
      "name": "MIDI_chord_analysis.ipynb",
      "provenance": [],
      "collapsed_sections": []
    },
    "kernelspec": {
      "name": "python3",
      "display_name": "Python 3"
    },
    "language_info": {
      "name": "python"
    }
  },
  "cells": [
    {
      "cell_type": "markdown",
      "source": [
        "# Chord Extraction from MIDI Files\n",
        "\n",
        "This is a short script that extracts chords from MIDI files using the Chorder library (https://github.com/joshuachang2311/chorder)\n",
        "\n",
        "As an example, I am using the The Lakh MIDI Dataset (https://colinraffel.com/projects/lmd/) and extracting from all songs in the Soul genre."
      ],
      "metadata": {
        "id": "WGIFcGaMPTvX"
      }
    },
    {
      "cell_type": "markdown",
      "source": [
        "## Setup"
      ],
      "metadata": {
        "id": "1W5Y9RV9PwY-"
      }
    },
    {
      "cell_type": "code",
      "execution_count": null,
      "metadata": {
        "id": "9y2sJ6FRuMM8",
        "colab": {
          "base_uri": "https://localhost:8080/"
        },
        "outputId": "da3d20e7-8cd9-4807-b17f-11d03329ecb4"
      },
      "outputs": [
        {
          "output_type": "stream",
          "name": "stdout",
          "text": [
            "Looking in indexes: https://pypi.org/simple, https://us-python.pkg.dev/colab-wheels/public/simple/\n",
            "Collecting miditoolkit\n",
            "  Downloading miditoolkit-0.1.16-py3-none-any.whl (20 kB)\n",
            "Requirement already satisfied: numpy>=1.7.0 in /usr/local/lib/python3.7/dist-packages (from miditoolkit) (1.21.6)\n",
            "Collecting mido>=1.1.16\n",
            "  Downloading mido-1.2.10-py2.py3-none-any.whl (51 kB)\n",
            "\u001b[K     |████████████████████████████████| 51 kB 2.4 MB/s \n",
            "\u001b[?25hInstalling collected packages: mido, miditoolkit\n",
            "Successfully installed miditoolkit-0.1.16 mido-1.2.10\n",
            "Looking in indexes: https://pypi.org/simple, https://us-python.pkg.dev/colab-wheels/public/simple/\n",
            "Collecting chorder\n",
            "  Downloading chorder-0.1.4-py3-none-any.whl (10 kB)\n",
            "Requirement already satisfied: miditoolkit in /usr/local/lib/python3.7/dist-packages (from chorder) (0.1.16)\n",
            "Requirement already satisfied: numpy in /usr/local/lib/python3.7/dist-packages (from chorder) (1.21.6)\n",
            "Requirement already satisfied: mido>=1.1.16 in /usr/local/lib/python3.7/dist-packages (from miditoolkit->chorder) (1.2.10)\n",
            "Installing collected packages: chorder\n",
            "Successfully installed chorder-0.1.4\n",
            "Looking in indexes: https://pypi.org/simple, https://us-python.pkg.dev/colab-wheels/public/simple/\n",
            "Collecting fuzzywuzzy[speedup]\n",
            "  Downloading fuzzywuzzy-0.18.0-py2.py3-none-any.whl (18 kB)\n",
            "Collecting python-levenshtein>=0.12\n",
            "  Downloading python-Levenshtein-0.12.2.tar.gz (50 kB)\n",
            "\u001b[K     |████████████████████████████████| 50 kB 3.0 MB/s \n",
            "\u001b[?25hRequirement already satisfied: setuptools in /usr/local/lib/python3.7/dist-packages (from python-levenshtein>=0.12->fuzzywuzzy[speedup]) (57.4.0)\n",
            "Building wheels for collected packages: python-levenshtein\n",
            "  Building wheel for python-levenshtein (setup.py) ... \u001b[?25l\u001b[?25hdone\n",
            "  Created wheel for python-levenshtein: filename=python_Levenshtein-0.12.2-cp37-cp37m-linux_x86_64.whl size=149876 sha256=3a81097175bcf9abc709bf849c0799a96dcf2ef949cbbf2247d3b949d1a7fa0b\n",
            "  Stored in directory: /root/.cache/pip/wheels/05/5f/ca/7c4367734892581bb5ff896f15027a932c551080b2abd3e00d\n",
            "Successfully built python-levenshtein\n",
            "Installing collected packages: python-levenshtein, fuzzywuzzy\n",
            "Successfully installed fuzzywuzzy-0.18.0 python-levenshtein-0.12.2\n"
          ]
        }
      ],
      "source": [
        "# Install dependencies\n",
        "!pip install miditoolkit\n",
        "!pip install chorder\n",
        "!pip install fuzzywuzzy[speedup]"
      ]
    },
    {
      "cell_type": "code",
      "source": [
        "# Import needed modules and create IO dirs\n",
        "import os\n",
        "import copy\n",
        "import numpy as np\n",
        "import multiprocessing as mp\n",
        "\n",
        "import pandas as pd\n",
        "import re\n",
        "\n",
        "from chorder import Dechorder\n",
        "import miditoolkit\n",
        "\n",
        "from fuzzywuzzy import fuzz\n",
        "from fuzzywuzzy import process\n",
        "\n",
        "import pickle\n",
        "import shutil\n",
        "import sys\n",
        "\n",
        "if not os.path.exists('./Input_MIDIs'):\n",
        "  os.mkdir('./Input_MIDIs')\n",
        "if not os.path.exists('./Chorded_MIDIs'):\n",
        "  os.mkdir('./Chorded_MIDIs')"
      ],
      "metadata": {
        "id": "wBXoxsg0uVbU"
      },
      "execution_count": null,
      "outputs": []
    },
    {
      "cell_type": "code",
      "source": [
        "# Integers to note names\n",
        "num2pitch = {\n",
        "    0: 'C',\n",
        "    1: 'C#',\n",
        "    2: 'D',\n",
        "    3: 'D#',\n",
        "    4: 'E',\n",
        "    5: 'F',\n",
        "    6: 'F#',\n",
        "    7: 'G',\n",
        "    8: 'G#',\n",
        "    9: 'A',\n",
        "    10: 'A#',\n",
        "    11: 'B',\n",
        "}"
      ],
      "metadata": {
        "id": "djZkBzLUuzrV"
      },
      "execution_count": null,
      "outputs": []
    },
    {
      "cell_type": "markdown",
      "source": [
        "## Data"
      ],
      "metadata": {
        "id": "Xr4bVBwtQQAd"
      }
    },
    {
      "cell_type": "code",
      "source": [
        "# Download the dataset\n",
        "!wget 'http://hog.ee.columbia.edu/craffel/lmd/clean_midi.tar.gz'\n",
        "!tar -xvf 'clean_midi.tar.gz'\n",
        "!rm 'clean_midi.tar.gz'"
      ],
      "metadata": {
        "id": "ZT8Y_DdrgtJf"
      },
      "execution_count": null,
      "outputs": []
    },
    {
      "cell_type": "code",
      "source": [
        "subdirs = list(os.walk('clean_midi'))[0][1]"
      ],
      "metadata": {
        "id": "HR1DUKPsoFg_"
      },
      "execution_count": null,
      "outputs": []
    },
    {
      "cell_type": "code",
      "source": [
        "# Load the list of Soul artists to filter the sub-directories of the downloaded dataset\n",
        "soul = pd.read_csv('soul_artists.csv')\n",
        "soul = soul['Aaliyah'].to_list()\n",
        "regex = re.compile('[^a-zA-Z ]')\n",
        "soul = [regex.sub('', x) for x in soul]"
      ],
      "metadata": {
        "id": "bKuh96j1pC8-"
      },
      "execution_count": null,
      "outputs": []
    },
    {
      "cell_type": "code",
      "source": [
        "len(subdirs) # All sub-directories"
      ],
      "metadata": {
        "colab": {
          "base_uri": "https://localhost:8080/"
        },
        "id": "CLUvQaHyqkln",
        "outputId": "224b6b63-293c-4e73-e182-cdcca7adbf93"
      },
      "execution_count": null,
      "outputs": [
        {
          "output_type": "execute_result",
          "data": {
            "text/plain": [
              "2198"
            ]
          },
          "metadata": {},
          "execution_count": 7
        }
      ]
    },
    {
      "cell_type": "code",
      "source": [
        "# Use fuzzy matching to \n",
        "soul_dirs = []\n",
        "for artist in soul:\n",
        "  x = process.extractOne(artist, subdirs)\n",
        "  if x[1] > 85: #random threshold\n",
        "    soul_dirs.append(x[0])\n",
        "\n",
        "soul_dirs = list(set(soul_dirs))\n",
        "len(soul_dirs) # only Soul sub-directories"
      ],
      "metadata": {
        "colab": {
          "base_uri": "https://localhost:8080/"
        },
        "id": "EqWHmCucowMb",
        "outputId": "07e486d7-b17e-45fd-a6f9-e5888b4ea0c4"
      },
      "execution_count": null,
      "outputs": [
        {
          "output_type": "execute_result",
          "data": {
            "text/plain": [
              "242"
            ]
          },
          "metadata": {},
          "execution_count": 8
        }
      ]
    },
    {
      "cell_type": "code",
      "source": [
        "soul_file_list = []\n",
        "for direct in soul_dirs:\n",
        "  tmp = list(os.listdir('clean_midi'+\"/\"+direct))\n",
        "  tmp = ['clean_midi'+\"/\"+direct+\"/\"+x for x in tmp]\n",
        "  soul_file_list.extend(tmp)\n",
        "\n",
        "len(soul_file_list) # Number of MIDI files in the Soul genre"
      ],
      "metadata": {
        "colab": {
          "base_uri": "https://localhost:8080/"
        },
        "id": "fAyqPT_tseSJ",
        "outputId": "a08f431c-d4ab-4ffc-d73d-e9e4d84b0eff"
      },
      "execution_count": null,
      "outputs": [
        {
          "output_type": "execute_result",
          "data": {
            "text/plain": [
              "2515"
            ]
          },
          "metadata": {},
          "execution_count": 9
        }
      ]
    },
    {
      "cell_type": "markdown",
      "source": [
        "## Chord Detection"
      ],
      "metadata": {
        "id": "oxXmvQ2gTWNF"
      }
    },
    {
      "cell_type": "code",
      "source": [
        "def chordify_midi(path_infile, num):\n",
        "  # load\n",
        "  midi_obj = miditoolkit.midi.parser.MidiFile(path_infile)\n",
        "  midi_obj_out = copy.deepcopy(midi_obj)\n",
        "  notes = midi_obj.instruments[0].notes\n",
        "  notes = sorted(notes, key=lambda x: (x.start, x.pitch))\n",
        "\n",
        "  # exctract chord\n",
        "  chords = Dechorder.dechord(midi_obj)\n",
        "  chord_names = []\n",
        "  for chord in chords:\n",
        "    if chord.is_complete():\n",
        "      chord_name = []\n",
        "      chord_name.append(num2pitch[chord.root_pc])\n",
        "      if chord.quality != 'M': #following the convention, don't indicate anything apart from the pitch for major triads\n",
        "        chord_name.append(chord.quality)\n",
        "      if num2pitch[chord.bass_pc] != num2pitch[chord.root_pc]: # in case the bass note is not the root note\n",
        "        chord_name.append(\"/\"+num2pitch[chord.bass_pc])\n",
        "      chord_names.append(''.join(chord_name))\n",
        "\n",
        "  # dedup\n",
        "  prev_chord = None\n",
        "  dedup_chords = []\n",
        "  for m in chord_names:\n",
        "      if m != prev_chord:\n",
        "          prev_chord = m\n",
        "          dedup_chords.append(m)\n",
        "\n",
        "  # returning as separate text files to facilitate multi-thread processing\n",
        "  textfile = open(f\"Chorded_MIDIs/chords{num}.txt\", \"w\")\n",
        "  for element in dedup_chords:\n",
        "    textfile.write(element + \"\\n\")\n",
        "  textfile.close()"
      ],
      "metadata": {
        "id": "IMjPiKxZ63H_"
      },
      "execution_count": null,
      "outputs": []
    },
    {
      "cell_type": "code",
      "source": [
        "# Run the function with multi-thread processing to speed thing up\n",
        "data = []\n",
        "for i, x in enumerate(soul_file_list):\n",
        "  data.append([x, str(i)])\n",
        "\n",
        "pool = mp.Pool()\n",
        "pool.starmap(chordify_midi, data)"
      ],
      "metadata": {
        "id": "fq462U1W6FSb"
      },
      "execution_count": null,
      "outputs": []
    },
    {
      "cell_type": "code",
      "source": [
        "# Combine the separate text files into one big file\n",
        "with open('soul_chords.txt','wb') as wfd:\n",
        "    for f in list(os.listdir('Chorded_MIDIs')):\n",
        "      if '.txt' in f:\n",
        "        with open('Chorded_MIDIs/'+f,'rb') as fd:\n",
        "            shutil.copyfileobj(fd, wfd)"
      ],
      "metadata": {
        "id": "LB8CHZx-9Aem"
      },
      "execution_count": null,
      "outputs": []
    },
    {
      "cell_type": "code",
      "source": [
        "import csv\n",
        "# Combining it all for Pickle export\n",
        "all_chords = []\n",
        "for file in list(os.listdir('Chorded_MIDIs')):\n",
        "  if '.txt' in file:\n",
        "    chord_file = open('Chorded_MIDIs/'+file, 'r')\n",
        "    reader = csv.reader(chord_file)\n",
        "    allRows = [row for row in reader]\n",
        "    all_chords.append(allRows)"
      ],
      "metadata": {
        "id": "XROvRj9jAnye"
      },
      "execution_count": null,
      "outputs": []
    },
    {
      "cell_type": "code",
      "source": [
        "with open('soul_chords.pickle', 'wb') as f:\n",
        "    pickle.dump(all_chords, f)"
      ],
      "metadata": {
        "id": "Z-Aclc_K3m3D"
      },
      "execution_count": null,
      "outputs": []
    }
  ]
}