{
  "nbformat": 4,
  "nbformat_minor": 0,
  "metadata": {
    "colab": {
      "name": "musicai_chords_LSTM.ipynb",
      "provenance": [],
      "collapsed_sections": [
        "7jFGPHwdyf1e",
        "DmvuivClGcKI"
      ]
    },
    "kernelspec": {
      "name": "python3",
      "display_name": "Python 3"
    },
    "language_info": {
      "name": "python"
    },
    "accelerator": "GPU",
    "gpuClass": "standard"
  },
  "cells": [
    {
      "cell_type": "markdown",
      "source": [
        "## Install the required libraries and import them"
      ],
      "metadata": {
        "id": "tUHo6GxiE2fn"
      }
    },
    {
      "cell_type": "code",
      "execution_count": null,
      "metadata": {
        "colab": {
          "base_uri": "https://localhost:8080/"
        },
        "id": "rL8oOvQnWwwL",
        "outputId": "1e0d75b4-3454-42e3-f200-7d98d2cc2aad"
      },
      "outputs": [
        {
          "output_type": "stream",
          "name": "stdout",
          "text": [
            "Looking in indexes: https://pypi.org/simple, https://us-python.pkg.dev/colab-wheels/public/simple/\n",
            "Collecting pychord\n",
            "  Downloading pychord-1.1.0-py2.py3-none-any.whl (12 kB)\n",
            "Installing collected packages: pychord\n",
            "Successfully installed pychord-1.1.0\n"
          ]
        }
      ],
      "source": [
        "!pip install pychord"
      ]
    },
    {
      "cell_type": "code",
      "source": [
        "from pychord import Chord\n",
        "import pickle\n",
        "import json\n",
        "import numpy as np"
      ],
      "metadata": {
        "id": "O1thS5MwaIBg"
      },
      "execution_count": null,
      "outputs": []
    },
    {
      "cell_type": "code",
      "source": [
        "from tensorflow.keras.preprocessing.sequence import pad_sequences\n",
        "from tensorflow.keras.layers import Embedding, LSTM, Dense, Dropout, Bidirectional\n",
        "from tensorflow.keras.preprocessing.text import Tokenizer\n",
        "from tensorflow.keras.models import Sequential\n",
        "from tensorflow.keras.optimizers import Adam\n",
        "from tensorflow.keras import regularizers\n",
        "import tensorflow.keras.utils as ku \n",
        "\n",
        "import tensorflow as tf\n",
        "import keras\n",
        "\n",
        "import matplotlib.pyplot as plt"
      ],
      "metadata": {
        "id": "yEAjwUnFPX7Z"
      },
      "execution_count": null,
      "outputs": []
    },
    {
      "cell_type": "code",
      "source": [
        "print(\"Num GPUs Available: \", len(tf.config.list_physical_devices('GPU')))"
      ],
      "metadata": {
        "colab": {
          "base_uri": "https://localhost:8080/"
        },
        "id": "VB_NQnXGCwV5",
        "outputId": "eb8a9860-b809-4a64-a07d-2a5192e52965"
      },
      "execution_count": null,
      "outputs": [
        {
          "output_type": "stream",
          "name": "stdout",
          "text": [
            "Num GPUs Available:  1\n"
          ]
        }
      ]
    },
    {
      "cell_type": "markdown",
      "source": [
        "## Load the dataset and the look-up table for pitches\n",
        "The dataset was created using the *MIDI_chord_extraction.ipynb* script. It is also uploaded as a pickle file for convenience.\n"
      ],
      "metadata": {
        "id": "yZ6jf5wLEdjq"
      }
    },
    {
      "cell_type": "code",
      "source": [
        "# Load the dataset (chords from MIDIs) in pickle format\n",
        "chords = pickle.load(open(\"soul_chords.pickle\", \"rb\"))"
      ],
      "metadata": {
        "id": "rgZH-TwtaWGs"
      },
      "execution_count": null,
      "outputs": []
    },
    {
      "cell_type": "code",
      "source": [
        "chords[0][0:5] #A sample of chords"
      ],
      "metadata": {
        "colab": {
          "base_uri": "https://localhost:8080/"
        },
        "id": "57oDPORUBo8P",
        "outputId": "c93b0819-00e5-47c9-9924-865c883b9f21"
      },
      "execution_count": null,
      "outputs": [
        {
          "output_type": "execute_result",
          "data": {
            "text/plain": [
              "[['Em'], ['GM7'], ['Gm'], ['GM7'], ['CM7/G']]"
            ]
          },
          "metadata": {},
          "execution_count": 6
        }
      ]
    },
    {
      "cell_type": "code",
      "source": [
        "# Load the lookup for pitch to number translation\n",
        "with open('pitch_embedding.json') as d:\n",
        "    pitches = json.load(d)"
      ],
      "metadata": {
        "id": "YZMWalyogC2K"
      },
      "execution_count": null,
      "outputs": []
    },
    {
      "cell_type": "code",
      "source": [
        "# Replace the diminished and augmented chord notation to work with the PyChord library\n",
        "chords = [[x[0].replace('o', 'dim') for x in song] for song in chords]\n",
        "chords = [[x.replace('+', 'aug') for x in song] for song in chords]"
      ],
      "metadata": {
        "id": "mthAnNjRCnhj"
      },
      "execution_count": null,
      "outputs": []
    },
    {
      "cell_type": "code",
      "source": [
        "len(chords)"
      ],
      "metadata": {
        "colab": {
          "base_uri": "https://localhost:8080/"
        },
        "id": "OFDzGL6EI8KW",
        "outputId": "fed058eb-aa40-4afd-da4e-31a4559f696a"
      },
      "execution_count": null,
      "outputs": [
        {
          "output_type": "execute_result",
          "data": {
            "text/plain": [
              "984"
            ]
          },
          "metadata": {},
          "execution_count": 56
        }
      ]
    },
    {
      "cell_type": "code",
      "source": [
        "# Show components of a random chord\n",
        "e_chord = Chord(chords[0][0]).components_with_pitch(root_pitch=3)\n",
        "e_chord"
      ],
      "metadata": {
        "colab": {
          "base_uri": "https://localhost:8080/"
        },
        "id": "HvY5XTVNgI5z",
        "outputId": "438b1a6d-e21a-46ad-ef65-6a5717fd6a88"
      },
      "execution_count": null,
      "outputs": [
        {
          "output_type": "execute_result",
          "data": {
            "text/plain": [
              "['G3', 'B3', 'D4']"
            ]
          },
          "metadata": {},
          "execution_count": 57
        }
      ]
    },
    {
      "cell_type": "code",
      "source": [
        "# Numeric representation of those components\n",
        "e_nr = [int(pitches.get(item,item))  for item in e_chord]\n",
        "\n",
        "np.array(e_nr)"
      ],
      "metadata": {
        "colab": {
          "base_uri": "https://localhost:8080/"
        },
        "id": "ro_62BaugrN_",
        "outputId": "0d7a0a3c-84dc-445b-cbcd-eacf8b3f4548"
      },
      "execution_count": null,
      "outputs": [
        {
          "output_type": "execute_result",
          "data": {
            "text/plain": [
              "array([ 8, 12, 15])"
            ]
          },
          "metadata": {},
          "execution_count": 58
        }
      ]
    },
    {
      "cell_type": "markdown",
      "source": [
        "### One-octave embedding version"
      ],
      "metadata": {
        "id": "7jFGPHwdyf1e"
      }
    },
    {
      "cell_type": "code",
      "source": [
        "# Show components of a random chord\n",
        "e_chord = Chord(chords[0][0]).components()\n",
        "e_chord\n",
        "\n",
        "# Load the lookup for pitch to number translation (one octave version)\n",
        "with open('pitch_embeddings_one_oct.json') as d:\n",
        "    pitches = json.load(d)\n",
        "\n",
        "# Numeric representation of those components\n",
        "e_nr = [int(pitches.get(item,item))  for item in e_chord]\n",
        "\n",
        "np.array(e_nr)"
      ],
      "metadata": {
        "colab": {
          "base_uri": "https://localhost:8080/"
        },
        "id": "FeUTE8uQw2ko",
        "outputId": "8c061346-fe94-4640-f34f-a439d9f9b952"
      },
      "execution_count": null,
      "outputs": [
        {
          "output_type": "execute_result",
          "data": {
            "text/plain": [
              "array([11,  9, 12,  3])"
            ]
          },
          "metadata": {},
          "execution_count": 32
        }
      ]
    },
    {
      "cell_type": "markdown",
      "source": [
        "## Preprocess the input before building a model"
      ],
      "metadata": {
        "id": "QmdSQs1PEvVx"
      }
    },
    {
      "cell_type": "code",
      "source": [
        "# Pre-processing the chords\n",
        "# Splitting the pieces into smaller chunks\n",
        "# One needs to come up with a smart way of splitting a piece into musical sentences (probably prior to conversion into chords)\n",
        "# So here's a dumb way: just splitting everything into 24-chord-long sequences\n",
        "def chunks(lst, n):\n",
        "    #Yield successive n-sized chunks from lst.\n",
        "    for i in range(0, len(lst), n):\n",
        "        yield lst[i:i + n]\n",
        "\n",
        "chords_chunks = [list(chunks(x, 24)) for x in chords]\n",
        "chords_chunks = [x for y in chords_chunks for x in y]\n",
        "len(chords_chunks)"
      ],
      "metadata": {
        "colab": {
          "base_uri": "https://localhost:8080/"
        },
        "id": "cm5Hkb_7Owak",
        "outputId": "609a79b8-61d1-41a9-b8b8-40b6c511c5dd"
      },
      "execution_count": null,
      "outputs": [
        {
          "output_type": "execute_result",
          "data": {
            "text/plain": [
              "7488"
            ]
          },
          "metadata": {},
          "execution_count": 81
        }
      ]
    },
    {
      "cell_type": "code",
      "source": [
        "chords_chunks[1]"
      ],
      "metadata": {
        "colab": {
          "base_uri": "https://localhost:8080/"
        },
        "id": "AgYchTef0tN1",
        "outputId": "978e57dc-4809-43ce-9b9f-ec5e06629422"
      },
      "execution_count": null,
      "outputs": [
        {
          "output_type": "execute_result",
          "data": {
            "text/plain": [
              "['G#aug/C',\n",
              " 'Gdim/A#',\n",
              " 'F#M7/C',\n",
              " 'Ddim/C',\n",
              " 'A#aug',\n",
              " 'CM7/B',\n",
              " 'G#aug/C',\n",
              " 'A#aug/C',\n",
              " 'Cm7',\n",
              " 'A#aug/C',\n",
              " 'Gm/C',\n",
              " 'A#aug/C',\n",
              " 'Gm/C',\n",
              " 'Cm7',\n",
              " 'G#dim/B',\n",
              " 'G#aug/A#',\n",
              " 'A#m7',\n",
              " 'G#7/C',\n",
              " 'Ddim/C',\n",
              " 'C#M7/C',\n",
              " 'G#aug/C',\n",
              " 'A#7',\n",
              " 'A#m7',\n",
              " 'A#m7/C']"
            ]
          },
          "metadata": {},
          "execution_count": 82
        }
      ]
    },
    {
      "cell_type": "code",
      "source": [
        "# Intitialize the tokenizer and fit it\n",
        "# We don't actually need a tokenizer, just a lookup function - but it's convenient\n",
        "tokenizer = Tokenizer(lower=False)\n",
        "tokenizer.fit_on_texts(chords_chunks)\n",
        "total_words = len(tokenizer.word_index) + 1\n",
        "total_words # So in all the Soul songs there are only 36 unique chords"
      ],
      "metadata": {
        "colab": {
          "base_uri": "https://localhost:8080/"
        },
        "id": "uYDIyc5mWS1A",
        "outputId": "77ac9ba7-47ab-49d5-edf9-0d9fd372a4bd"
      },
      "execution_count": null,
      "outputs": [
        {
          "output_type": "execute_result",
          "data": {
            "text/plain": [
              "1044"
            ]
          },
          "metadata": {},
          "execution_count": 83
        }
      ]
    },
    {
      "cell_type": "markdown",
      "source": [
        "This function creates sequences of varying length such that later we can try to predict their continuation"
      ],
      "metadata": {
        "id": "Bd1OyCiMF6YL"
      }
    },
    {
      "cell_type": "code",
      "source": [
        "# Create n-grams\n",
        "# create input sequences using list of tokens\n",
        "\n",
        "input_sequences = []\n",
        "for line in chords_chunks:\n",
        "    token_list = tokenizer.texts_to_sequences([line])[0]\n",
        "    for i in range(1, len(token_list)):\n",
        "        n_gram_sequence = token_list[:i+1]\n",
        "        input_sequences.append(n_gram_sequence)\n",
        "\n",
        "print(\"length on sequences:\", len(input_sequences))\n",
        "print('example sequences:', input_sequences[4], input_sequences[5])"
      ],
      "metadata": {
        "colab": {
          "base_uri": "https://localhost:8080/"
        },
        "id": "3jVisbP6QS-u",
        "outputId": "a26b1fbe-8cab-4a7a-ed5e-7c16eb06f069"
      },
      "execution_count": null,
      "outputs": [
        {
          "output_type": "stream",
          "name": "stdout",
          "text": [
            "length on sequences: 161149\n",
            "example sequences: [677, 56, 712, 677, 256, 56] [677, 56, 712, 677, 256, 56, 256]\n"
          ]
        }
      ]
    },
    {
      "cell_type": "code",
      "source": [
        "# pad sequences (with 'pre' padding which works better for LSTM)\n",
        "max_sequence_len = max([len(x) for x in input_sequences])\n",
        "input_sequences = np.array(pad_sequences(input_sequences, maxlen=max_sequence_len, padding='pre'))\n",
        "max_sequence_len"
      ],
      "metadata": {
        "colab": {
          "base_uri": "https://localhost:8080/"
        },
        "id": "DH58dg4sSB6h",
        "outputId": "29b7d183-1a4b-4c35-8dd7-b3b8e4d38eee"
      },
      "execution_count": null,
      "outputs": [
        {
          "output_type": "execute_result",
          "data": {
            "text/plain": [
              "24"
            ]
          },
          "metadata": {},
          "execution_count": 85
        }
      ]
    },
    {
      "cell_type": "markdown",
      "source": [
        "Here we take the last chord in each sequence and use it as a prediction label. This way we can train the algo to 'generate' a continuation of a provided sequence"
      ],
      "metadata": {
        "id": "00jMWWfKGMHT"
      }
    },
    {
      "cell_type": "code",
      "source": [
        "# Extract the last chord of sequence and convert it to categorical from numerical\n",
        "# create predictors and label\n",
        "predictors, label = input_sequences[:,:-1],input_sequences[:,-1]\n",
        "label = ku.to_categorical(label, num_classes=total_words)"
      ],
      "metadata": {
        "id": "v3-6oFHsRMdj"
      },
      "execution_count": null,
      "outputs": []
    },
    {
      "cell_type": "code",
      "source": [
        "predictors[54]"
      ],
      "metadata": {
        "colab": {
          "base_uri": "https://localhost:8080/"
        },
        "id": "pXNsl1hTH2X4",
        "outputId": "b6b76447-153c-4509-d236-26d5f91e628b"
      },
      "execution_count": null,
      "outputs": [
        {
          "output_type": "execute_result",
          "data": {
            "text/plain": [
              "array([  0,   0,   0,   0,   0,   0,   0,   0,   0,   0,   0,   0,   0,\n",
              "         0, 362,  24, 263, 142,  14, 142, 205, 142, 205], dtype=int32)"
            ]
          },
          "metadata": {},
          "execution_count": 88
        }
      ]
    },
    {
      "cell_type": "code",
      "source": [
        "label[54]"
      ],
      "metadata": {
        "colab": {
          "base_uri": "https://localhost:8080/"
        },
        "id": "QLohnFqNbTbZ",
        "outputId": "fc29819d-9895-4f8a-ae56-f1b93ef0a437"
      },
      "execution_count": null,
      "outputs": [
        {
          "output_type": "execute_result",
          "data": {
            "text/plain": [
              "array([0., 0., 0., ..., 0., 0., 0.], dtype=float32)"
            ]
          },
          "metadata": {},
          "execution_count": 89
        }
      ]
    },
    {
      "cell_type": "code",
      "source": [
        "print(predictors.shape)\n",
        "print(label.shape)"
      ],
      "metadata": {
        "colab": {
          "base_uri": "https://localhost:8080/"
        },
        "id": "mbNZGyTy_BfS",
        "outputId": "0380862e-115c-4881-9b87-c422359c9d4d"
      },
      "execution_count": null,
      "outputs": [
        {
          "output_type": "stream",
          "name": "stdout",
          "text": [
            "(161149, 23)\n",
            "(161149, 1044)\n"
          ]
        }
      ]
    },
    {
      "cell_type": "markdown",
      "source": [
        "Splitting the Data into Train and Test sets"
      ],
      "metadata": {
        "id": "9-qMo2joW3Gd"
      }
    },
    {
      "cell_type": "code",
      "source": [
        "from sklearn.model_selection import train_test_split\n",
        "x, x_test, y, y_test = train_test_split(predictors, label, test_size=0.2, shuffle=True)"
      ],
      "metadata": {
        "id": "JnKOMN_7bRXr"
      },
      "execution_count": null,
      "outputs": []
    },
    {
      "cell_type": "markdown",
      "source": [
        "## A basic model with default (in-model) embeddings"
      ],
      "metadata": {
        "id": "DmvuivClGcKI"
      }
    },
    {
      "cell_type": "code",
      "source": [
        "# Creating the model\n",
        "model = Sequential()\n",
        "model.add(Embedding(total_words, 32, input_length=max_sequence_len-1))\n",
        "model.add(Bidirectional(LSTM(32, return_sequences = True)))\n",
        "model.add(Dropout(0.2))\n",
        "model.add(LSTM(16))\n",
        "model.add(Dense(total_words/2, activation='relu', kernel_regularizer=regularizers.l2(0.01)))\n",
        "model.add(Dense(total_words, activation='softmax'))\n",
        "model.compile(loss='categorical_crossentropy', optimizer='adam', metrics=['accuracy'])\n",
        "print(model.summary())"
      ],
      "metadata": {
        "colab": {
          "base_uri": "https://localhost:8080/"
        },
        "id": "lUoi29aGXqOJ",
        "outputId": "5e909bfc-0675-4d20-a927-4c3278a8e66a"
      },
      "execution_count": null,
      "outputs": [
        {
          "output_type": "stream",
          "name": "stdout",
          "text": [
            "Model: \"sequential\"\n",
            "_________________________________________________________________\n",
            " Layer (type)                Output Shape              Param #   \n",
            "=================================================================\n",
            " embedding (Embedding)       (None, 23, 32)            33408     \n",
            "                                                                 \n",
            " bidirectional (Bidirectiona  (None, 23, 64)           16640     \n",
            " l)                                                              \n",
            "                                                                 \n",
            " dropout (Dropout)           (None, 23, 64)            0         \n",
            "                                                                 \n",
            " lstm_1 (LSTM)               (None, 16)                5184      \n",
            "                                                                 \n",
            " dense (Dense)               (None, 522)               8874      \n",
            "                                                                 \n",
            " dense_1 (Dense)             (None, 1044)              546012    \n",
            "                                                                 \n",
            "=================================================================\n",
            "Total params: 610,118\n",
            "Trainable params: 610,118\n",
            "Non-trainable params: 0\n",
            "_________________________________________________________________\n",
            "None\n"
          ]
        }
      ]
    },
    {
      "cell_type": "code",
      "source": [
        "history = model.fit(predictors, label, epochs=10, verbose=1, validation_data=(x_test, y_test))"
      ],
      "metadata": {
        "colab": {
          "base_uri": "https://localhost:8080/"
        },
        "id": "dPMwof0QYYRL",
        "outputId": "35dded14-9574-4d79-d39f-c92d49734bfe"
      },
      "execution_count": null,
      "outputs": [
        {
          "output_type": "stream",
          "name": "stdout",
          "text": [
            "Epoch 1/10\n",
            "5036/5036 [==============================] - 230s 44ms/step - loss: 5.3792 - accuracy: 0.0361 - val_loss: 4.9938 - val_accuracy: 0.0545\n",
            "Epoch 2/10\n",
            "5036/5036 [==============================] - 218s 43ms/step - loss: 4.9044 - accuracy: 0.0613 - val_loss: 4.7840 - val_accuracy: 0.0674\n",
            "Epoch 3/10\n",
            "5036/5036 [==============================] - 219s 43ms/step - loss: 4.7377 - accuracy: 0.0710 - val_loss: 4.6499 - val_accuracy: 0.0756\n",
            "Epoch 4/10\n",
            "5036/5036 [==============================] - 218s 43ms/step - loss: 4.6357 - accuracy: 0.0790 - val_loss: 4.5601 - val_accuracy: 0.0862\n",
            "Epoch 5/10\n",
            "5036/5036 [==============================] - 216s 43ms/step - loss: 4.5592 - accuracy: 0.0865 - val_loss: 4.4797 - val_accuracy: 0.0941\n",
            "Epoch 6/10\n",
            "5036/5036 [==============================] - 216s 43ms/step - loss: 4.4950 - accuracy: 0.0929 - val_loss: 4.4179 - val_accuracy: 0.0980\n",
            "Epoch 7/10\n",
            "5036/5036 [==============================] - 215s 43ms/step - loss: 4.4371 - accuracy: 0.0985 - val_loss: 4.3682 - val_accuracy: 0.1026\n",
            "Epoch 8/10\n",
            "5036/5036 [==============================] - 213s 42ms/step - loss: 4.3863 - accuracy: 0.1041 - val_loss: 4.3077 - val_accuracy: 0.1108\n",
            "Epoch 9/10\n",
            "5036/5036 [==============================] - 215s 43ms/step - loss: 4.3387 - accuracy: 0.1087 - val_loss: 4.2571 - val_accuracy: 0.1156\n",
            "Epoch 10/10\n",
            "5036/5036 [==============================] - 214s 43ms/step - loss: 4.2953 - accuracy: 0.1136 - val_loss: 4.2194 - val_accuracy: 0.1182\n"
          ]
        }
      ]
    },
    {
      "cell_type": "markdown",
      "source": [
        "### Evaluating the model performance and generating some examples"
      ],
      "metadata": {
        "id": "7JTeOsYRGjs1"
      }
    },
    {
      "cell_type": "code",
      "source": [
        "import matplotlib.pyplot as plt\n",
        "acc = history.history['accuracy']\n",
        "loss = history.history['loss']\n",
        "epochs = range(len(acc))\n",
        "plt.plot(epochs, acc, 'b', label='Training accuracy')\n",
        "plt.title('Training accuracy')\n",
        "plt.figure()\n",
        "plt.plot(epochs, loss, 'b', label='Training Loss')\n",
        "plt.title('Training loss')\n",
        "plt.legend()\n",
        "plt.show()"
      ],
      "metadata": {
        "colab": {
          "base_uri": "https://localhost:8080/",
          "height": 545
        },
        "id": "tHIh0el-1aW_",
        "outputId": "e9e16386-f511-4e0c-efcf-176fed274929"
      },
      "execution_count": null,
      "outputs": [
        {
          "output_type": "display_data",
          "data": {
            "text/plain": [
              "<Figure size 432x288 with 1 Axes>"
            ],
            "image/png": "[encoded data removed]"
          },
          "metadata": {
            "needs_background": "light"
          }
        },
        {
          "output_type": "display_data",
          "data": {
            "text/plain": [
              "<Figure size 432x288 with 1 Axes>"
            ],
            "image/png": "[encoded data removed]"
          },
          "metadata": {
            "needs_background": "light"
          }
        }
      ]
    },
    {
      "cell_type": "markdown",
      "source": [
        "#### Generating a continuation for a I7 - IIIb7 progression"
      ],
      "metadata": {
        "id": "HqaGPkpnXFV1"
      }
    },
    {
      "cell_type": "code",
      "source": [
        "seed_text = ['GM7', 'A#7']\n",
        "next_words = 3\n",
        "\n",
        "for _ in range(next_words):\n",
        "    token_list = tokenizer.texts_to_sequences([seed_text])[0]\n",
        "    token_list = pad_sequences([token_list], maxlen=max_sequence_len-1, padding='pre')\n",
        "    #predicted = np.argmax(model.predict(token_list), axis=-1)\\\n",
        "    predicted = np.argsort(np.max(model.predict(token_list), axis=0))[-3] # a 'hotter' guess with the second most probable chord\n",
        "    print(predicted)\n",
        "    output_word = \"\"\n",
        "    for word, index in tokenizer.word_index.items():\n",
        "        if index == predicted:\n",
        "            output_word = word\n",
        "            break\n",
        "    seed_text.append(output_word)\n",
        "print(seed_text)"
      ],
      "metadata": {
        "colab": {
          "base_uri": "https://localhost:8080/"
        },
        "id": "cVW4oL5Y1RqU",
        "outputId": "9d35b188-8f8d-497f-d738-f4a5bd813302"
      },
      "execution_count": null,
      "outputs": [
        {
          "output_type": "stream",
          "name": "stdout",
          "text": [
            "17\n",
            "10\n",
            "5\n",
            "['GM7', 'A#7', 'Gm7', 'C7', 'Dm7']\n"
          ]
        }
      ]
    },
    {
      "cell_type": "markdown",
      "source": [
        "## Using custom embeddings"
      ],
      "metadata": {
        "id": "8fCKWrcwGzwE"
      }
    },
    {
      "cell_type": "markdown",
      "source": [
        "### Create the embeddings"
      ],
      "metadata": {
        "id": "_P8lwnLzHcyl"
      }
    },
    {
      "cell_type": "code",
      "source": [
        "word_index = tokenizer.word_index\n",
        "voc = list(tokenizer.word_index.keys())\n",
        "test = [\"C\", \"C7\", \"G7\"]\n",
        "[word_index[w] for w in test]"
      ],
      "metadata": {
        "colab": {
          "base_uri": "https://localhost:8080/"
        },
        "id": "chhbBOmcAw77",
        "outputId": "d02e4866-0a3e-42fc-98df-423b768f7d14"
      },
      "execution_count": null,
      "outputs": [
        {
          "output_type": "execute_result",
          "data": {
            "text/plain": [
              "[3, 10, 16]"
            ]
          },
          "metadata": {},
          "execution_count": 92
        }
      ]
    },
    {
      "cell_type": "code",
      "source": [
        "# A function to apply the embeddings\n",
        "# for each chord it gives a numeric representation of the notes in it\n",
        "# At most 5 notes are used (as the dataset does not contain more complex chords)\n",
        "def embed_chord(chord):\n",
        "  if chord == 'N':\n",
        "    return np.array([0.0, 0.0, 0.0, 0.0, 0.0])\n",
        "  x = chord\n",
        "  if 'E#' in x:\n",
        "    x = x.replace(\"E#\", \"F\")\n",
        "  if 'B#' in x:\n",
        "    x = x.replace(\"B#\", \"C\")\n",
        "  try:\n",
        "    x = [float(pitches.get(item,item))  for item in Chord(x).components_with_pitch(root_pitch=3)]\n",
        "    x += [0.0] * (5 - len(x))\n",
        "  except:\n",
        "    x= [0.0,0.0,0.0, 0.0, 0.0]\n",
        "  return np.array(x)"
      ],
      "metadata": {
        "id": "Mm5-Aq-407g-"
      },
      "execution_count": null,
      "outputs": []
    },
    {
      "cell_type": "code",
      "source": [
        "embeddings_index = {ch: embed_chord(ch) for ch in voc[:]}\n",
        "list(embeddings_index.items())[0] # an arbitrary example"
      ],
      "metadata": {
        "colab": {
          "base_uri": "https://localhost:8080/"
        },
        "id": "kYsgwhfd34j5",
        "outputId": "e0788ae0-f2b8-49b1-d3b4-2cd05cf02521"
      },
      "execution_count": null,
      "outputs": [
        {
          "output_type": "execute_result",
          "data": {
            "text/plain": [
              "('CM7', array([ 1.,  5.,  8., 12.,  0.]))"
            ]
          },
          "metadata": {},
          "execution_count": 95
        }
      ]
    },
    {
      "cell_type": "markdown",
      "source": [
        "Now use the tokenized values and the embeddings to create an embedding matrix"
      ],
      "metadata": {
        "id": "BPzgf0pmIKRf"
      }
    },
    {
      "cell_type": "code",
      "source": [
        "num_tokens = len(voc) + 2\n",
        "embedding_dim = 5\n",
        "hits = 0\n",
        "misses = 0\n",
        "\n",
        "# Prepare embedding matrix\n",
        "embedding_matrix = np.zeros((num_tokens, embedding_dim))\n",
        "for word, i in word_index.items():\n",
        "    embedding_vector = embeddings_index.get(word)\n",
        "    if embedding_vector is not None:\n",
        "        # Words not found in embedding index will be all-zeros.\n",
        "        # This includes the representation for \"padding\" and \"OOV\"\n",
        "        embedding_matrix[i] = embedding_vector\n",
        "        hits += 1\n",
        "    else:\n",
        "        print(word)\n",
        "        misses += 1\n",
        "print(\"Converted %d chords (%d misses)\" % (hits, misses))"
      ],
      "metadata": {
        "colab": {
          "base_uri": "https://localhost:8080/"
        },
        "id": "JQUEMA2K9dwn",
        "outputId": "9ea727a7-2908-4e66-c597-00a6782924df"
      },
      "execution_count": null,
      "outputs": [
        {
          "output_type": "stream",
          "name": "stdout",
          "text": [
            "Converted 1043 chords (0 misses)\n"
          ]
        }
      ]
    },
    {
      "cell_type": "markdown",
      "source": [
        "### Build the model"
      ],
      "metadata": {
        "id": "IVC5VXJfX9J0"
      }
    },
    {
      "cell_type": "code",
      "source": [
        "lr = 0.001\n",
        "opt_adam = tf.optimizers.Adam(lr=lr)"
      ],
      "metadata": {
        "id": "bGzK7rl3Mic3",
        "colab": {
          "base_uri": "https://localhost:8080/"
        },
        "outputId": "a6b14bae-84b7-41e6-aeef-21a4d875fbe0"
      },
      "execution_count": null,
      "outputs": [
        {
          "output_type": "stream",
          "name": "stderr",
          "text": [
            "/usr/local/lib/python3.7/dist-packages/keras/optimizer_v2/adam.py:105: UserWarning: The `lr` argument is deprecated, use `learning_rate` instead.\n",
            "  super(Adam, self).__init__(name, **kwargs)\n"
          ]
        }
      ]
    },
    {
      "cell_type": "code",
      "source": [
        "# Creating the model\n",
        "model = Sequential()\n",
        "# the custom embedding layer below\n",
        "model.add(Embedding(num_tokens, embedding_dim, embeddings_initializer=keras.initializers.Constant(embedding_matrix), trainable=False))\n",
        "model.add(Bidirectional(LSTM(50, return_sequences = True)))\n",
        "model.add(Dropout(0.2))\n",
        "model.add(LSTM(25))\n",
        "model.add(Dense(25, activation='relu'))\n",
        "model.add(Dense(total_words, activation='softmax'))\n",
        "model.compile(loss='categorical_crossentropy', optimizer=opt_adam, metrics=['accuracy'])\n",
        "print(model.summary())"
      ],
      "metadata": {
        "colab": {
          "base_uri": "https://localhost:8080/"
        },
        "id": "Dx8-zO2-CbZ-",
        "outputId": "6f61180a-b581-45cb-a9f6-625d0d3e87ec"
      },
      "execution_count": null,
      "outputs": [
        {
          "output_type": "stream",
          "name": "stdout",
          "text": [
            "Model: \"sequential_2\"\n",
            "_________________________________________________________________\n",
            " Layer (type)                Output Shape              Param #   \n",
            "=================================================================\n",
            " embedding_2 (Embedding)     (None, None, 5)           5225      \n",
            "                                                                 \n",
            " bidirectional_2 (Bidirectio  (None, None, 100)        22400     \n",
            " nal)                                                            \n",
            "                                                                 \n",
            " dropout_2 (Dropout)         (None, None, 100)         0         \n",
            "                                                                 \n",
            " lstm_5 (LSTM)               (None, 25)                12600     \n",
            "                                                                 \n",
            " dense_4 (Dense)             (None, 25)                650       \n",
            "                                                                 \n",
            " dense_5 (Dense)             (None, 1044)              27144     \n",
            "                                                                 \n",
            "=================================================================\n",
            "Total params: 68,019\n",
            "Trainable params: 62,794\n",
            "Non-trainable params: 5,225\n",
            "_________________________________________________________________\n",
            "None\n"
          ]
        }
      ]
    },
    {
      "cell_type": "code",
      "source": [
        "# Add a callback for early stopping in case of no improvement\n",
        "es = tf.keras.callbacks.EarlyStopping(monitor='val_loss', mode='min', verbose=1, patience=5)"
      ],
      "metadata": {
        "id": "GclvQu4U40cR"
      },
      "execution_count": null,
      "outputs": []
    },
    {
      "cell_type": "code",
      "source": [
        "history = model.fit(predictors, label, epochs=80, verbose=1, batch_size=64, validation_data=(x_test, y_test), callbacks=[es])"
      ],
      "metadata": {
        "colab": {
          "base_uri": "https://localhost:8080/"
        },
        "id": "JCAKbRoUCvog",
        "outputId": "a9b24ad8-e8a5-4b8b-e5d2-2fcf0d4ba7a5"
      },
      "execution_count": null,
      "outputs": [
        {
          "output_type": "stream",
          "name": "stdout",
          "text": [
            "Epoch 1/80\n",
            "2518/2518 [==============================] - 31s 11ms/step - loss: 5.6544 - accuracy: 0.0290 - val_loss: 5.4403 - val_accuracy: 0.0365\n",
            "Epoch 2/80\n",
            "2518/2518 [==============================] - 27s 11ms/step - loss: 5.3872 - accuracy: 0.0400 - val_loss: 5.2839 - val_accuracy: 0.0446\n",
            "Epoch 3/80\n",
            "2518/2518 [==============================] - 26s 10ms/step - loss: 5.2594 - accuracy: 0.0453 - val_loss: 5.1756 - val_accuracy: 0.0480\n",
            "Epoch 4/80\n",
            "2518/2518 [==============================] - 26s 10ms/step - loss: 5.1651 - accuracy: 0.0499 - val_loss: 5.0766 - val_accuracy: 0.0532\n",
            "Epoch 5/80\n",
            "2518/2518 [==============================] - 26s 10ms/step - loss: 5.0775 - accuracy: 0.0559 - val_loss: 4.9889 - val_accuracy: 0.0570\n",
            "Epoch 6/80\n",
            "2518/2518 [==============================] - 26s 10ms/step - loss: 5.0021 - accuracy: 0.0602 - val_loss: 4.9146 - val_accuracy: 0.0651\n",
            "Epoch 7/80\n",
            "2518/2518 [==============================] - 27s 11ms/step - loss: 4.9415 - accuracy: 0.0657 - val_loss: 4.8645 - val_accuracy: 0.0687\n",
            "Epoch 8/80\n",
            "2518/2518 [==============================] - 26s 10ms/step - loss: 4.8920 - accuracy: 0.0695 - val_loss: 4.8067 - val_accuracy: 0.0737\n",
            "Epoch 9/80\n",
            "2518/2518 [==============================] - 27s 11ms/step - loss: 4.8499 - accuracy: 0.0725 - val_loss: 4.7614 - val_accuracy: 0.0756\n",
            "Epoch 10/80\n",
            "2518/2518 [==============================] - 26s 10ms/step - loss: 4.8102 - accuracy: 0.0759 - val_loss: 4.7291 - val_accuracy: 0.0788\n",
            "Epoch 11/80\n",
            "2518/2518 [==============================] - 26s 10ms/step - loss: 4.7770 - accuracy: 0.0799 - val_loss: 4.6880 - val_accuracy: 0.0818\n",
            "Epoch 12/80\n",
            "2518/2518 [==============================] - 27s 11ms/step - loss: 4.7459 - accuracy: 0.0820 - val_loss: 4.6563 - val_accuracy: 0.0837\n",
            "Epoch 13/80\n",
            "2518/2518 [==============================] - 26s 10ms/step - loss: 4.7207 - accuracy: 0.0849 - val_loss: 4.6217 - val_accuracy: 0.0878\n",
            "Epoch 14/80\n",
            "2518/2518 [==============================] - 26s 10ms/step - loss: 4.6949 - accuracy: 0.0872 - val_loss: 4.6091 - val_accuracy: 0.0907\n",
            "Epoch 15/80\n",
            "2518/2518 [==============================] - 26s 10ms/step - loss: 4.6728 - accuracy: 0.0901 - val_loss: 4.5791 - val_accuracy: 0.0940\n",
            "Epoch 16/80\n",
            "2518/2518 [==============================] - 26s 10ms/step - loss: 4.6520 - accuracy: 0.0913 - val_loss: 4.5607 - val_accuracy: 0.0961\n",
            "Epoch 17/80\n",
            "2518/2518 [==============================] - 26s 10ms/step - loss: 4.6342 - accuracy: 0.0934 - val_loss: 4.5399 - val_accuracy: 0.0996\n",
            "Epoch 18/80\n",
            "2518/2518 [==============================] - 27s 11ms/step - loss: 4.6162 - accuracy: 0.0959 - val_loss: 4.5166 - val_accuracy: 0.0998\n",
            "Epoch 19/80\n",
            "2518/2518 [==============================] - 26s 10ms/step - loss: 4.6028 - accuracy: 0.0975 - val_loss: 4.4982 - val_accuracy: 0.1037\n",
            "Epoch 20/80\n",
            "2518/2518 [==============================] - 26s 10ms/step - loss: 4.5852 - accuracy: 0.0999 - val_loss: 4.4813 - val_accuracy: 0.1050\n",
            "Epoch 21/80\n",
            "2518/2518 [==============================] - 27s 11ms/step - loss: 4.5727 - accuracy: 0.1008 - val_loss: 4.4634 - val_accuracy: 0.1057\n",
            "Epoch 22/80\n",
            "2518/2518 [==============================] - 26s 10ms/step - loss: 4.5590 - accuracy: 0.1027 - val_loss: 4.4541 - val_accuracy: 0.1096\n",
            "Epoch 23/80\n",
            "2518/2518 [==============================] - 27s 11ms/step - loss: 4.5466 - accuracy: 0.1038 - val_loss: 4.4440 - val_accuracy: 0.1106\n",
            "Epoch 24/80\n",
            "2518/2518 [==============================] - 26s 10ms/step - loss: 4.5364 - accuracy: 0.1049 - val_loss: 4.4287 - val_accuracy: 0.1130\n",
            "Epoch 25/80\n",
            "2518/2518 [==============================] - 27s 11ms/step - loss: 4.5222 - accuracy: 0.1059 - val_loss: 4.4158 - val_accuracy: 0.1137\n",
            "Epoch 26/80\n",
            "2518/2518 [==============================] - 26s 10ms/step - loss: 4.5137 - accuracy: 0.1078 - val_loss: 4.4066 - val_accuracy: 0.1155\n",
            "Epoch 27/80\n",
            "2518/2518 [==============================] - 26s 10ms/step - loss: 4.5024 - accuracy: 0.1085 - val_loss: 4.4021 - val_accuracy: 0.1144\n",
            "Epoch 28/80\n",
            "2518/2518 [==============================] - 27s 11ms/step - loss: 4.4937 - accuracy: 0.1093 - val_loss: 4.3894 - val_accuracy: 0.1142\n",
            "Epoch 29/80\n",
            "2518/2518 [==============================] - 27s 11ms/step - loss: 4.4877 - accuracy: 0.1108 - val_loss: 4.3771 - val_accuracy: 0.1189\n",
            "Epoch 30/80\n",
            "2518/2518 [==============================] - 26s 10ms/step - loss: 4.4803 - accuracy: 0.1106 - val_loss: 4.3735 - val_accuracy: 0.1208\n",
            "Epoch 31/80\n",
            "2518/2518 [==============================] - 26s 10ms/step - loss: 4.4714 - accuracy: 0.1124 - val_loss: 4.3487 - val_accuracy: 0.1212\n",
            "Epoch 32/80\n",
            "2518/2518 [==============================] - 26s 10ms/step - loss: 4.4624 - accuracy: 0.1135 - val_loss: 4.3516 - val_accuracy: 0.1191\n",
            "Epoch 33/80\n",
            "2518/2518 [==============================] - 26s 10ms/step - loss: 4.4538 - accuracy: 0.1148 - val_loss: 4.3510 - val_accuracy: 0.1221\n",
            "Epoch 34/80\n",
            "2518/2518 [==============================] - 27s 11ms/step - loss: 4.4470 - accuracy: 0.1148 - val_loss: 4.3329 - val_accuracy: 0.1239\n",
            "Epoch 35/80\n",
            "2518/2518 [==============================] - 26s 10ms/step - loss: 4.4429 - accuracy: 0.1158 - val_loss: 4.3348 - val_accuracy: 0.1230\n",
            "Epoch 36/80\n",
            "2518/2518 [==============================] - 26s 10ms/step - loss: 4.4322 - accuracy: 0.1159 - val_loss: 4.3157 - val_accuracy: 0.1269\n",
            "Epoch 37/80\n",
            "2518/2518 [==============================] - 26s 10ms/step - loss: 4.4319 - accuracy: 0.1174 - val_loss: 4.3147 - val_accuracy: 0.1258\n",
            "Epoch 38/80\n",
            "2518/2518 [==============================] - 26s 10ms/step - loss: 4.4229 - accuracy: 0.1174 - val_loss: 4.3093 - val_accuracy: 0.1256\n",
            "Epoch 39/80\n",
            "2518/2518 [==============================] - 26s 10ms/step - loss: 4.4187 - accuracy: 0.1174 - val_loss: 4.3054 - val_accuracy: 0.1284\n",
            "Epoch 40/80\n",
            "2518/2518 [==============================] - 26s 10ms/step - loss: 4.4116 - accuracy: 0.1194 - val_loss: 4.2871 - val_accuracy: 0.1276\n",
            "Epoch 41/80\n",
            "2518/2518 [==============================] - 26s 10ms/step - loss: 4.4069 - accuracy: 0.1203 - val_loss: 4.2918 - val_accuracy: 0.1281\n",
            "Epoch 42/80\n",
            "2518/2518 [==============================] - 26s 10ms/step - loss: 4.4014 - accuracy: 0.1194 - val_loss: 4.2921 - val_accuracy: 0.1279\n",
            "Epoch 43/80\n",
            "2518/2518 [==============================] - 26s 10ms/step - loss: 4.3972 - accuracy: 0.1211 - val_loss: 4.2809 - val_accuracy: 0.1314\n",
            "Epoch 44/80\n",
            "2518/2518 [==============================] - 26s 10ms/step - loss: 4.3916 - accuracy: 0.1213 - val_loss: 4.2681 - val_accuracy: 0.1322\n",
            "Epoch 45/80\n",
            "2518/2518 [==============================] - 27s 11ms/step - loss: 4.3864 - accuracy: 0.1216 - val_loss: 4.2861 - val_accuracy: 0.1308\n",
            "Epoch 46/80\n",
            "2518/2518 [==============================] - 26s 10ms/step - loss: 4.3833 - accuracy: 0.1216 - val_loss: 4.2577 - val_accuracy: 0.1339\n",
            "Epoch 47/80\n",
            "2518/2518 [==============================] - 26s 10ms/step - loss: 4.3787 - accuracy: 0.1227 - val_loss: 4.2638 - val_accuracy: 0.1311\n",
            "Epoch 48/80\n",
            "2518/2518 [==============================] - 26s 10ms/step - loss: 4.3745 - accuracy: 0.1232 - val_loss: 4.2499 - val_accuracy: 0.1344\n",
            "Epoch 49/80\n",
            "2518/2518 [==============================] - 26s 10ms/step - loss: 4.3686 - accuracy: 0.1248 - val_loss: 4.2398 - val_accuracy: 0.1345\n",
            "Epoch 50/80\n",
            "2518/2518 [==============================] - 26s 10ms/step - loss: 4.3684 - accuracy: 0.1241 - val_loss: 4.2469 - val_accuracy: 0.1367\n",
            "Epoch 51/80\n",
            "2518/2518 [==============================] - 27s 11ms/step - loss: 4.3656 - accuracy: 0.1251 - val_loss: 4.2380 - val_accuracy: 0.1347\n",
            "Epoch 52/80\n",
            "2518/2518 [==============================] - 26s 11ms/step - loss: 4.3587 - accuracy: 0.1243 - val_loss: 4.2375 - val_accuracy: 0.1353\n",
            "Epoch 53/80\n",
            "2518/2518 [==============================] - 26s 11ms/step - loss: 4.3574 - accuracy: 0.1251 - val_loss: 4.2446 - val_accuracy: 0.1355\n",
            "Epoch 54/80\n",
            "2518/2518 [==============================] - 27s 11ms/step - loss: 4.3519 - accuracy: 0.1251 - val_loss: 4.2307 - val_accuracy: 0.1357\n",
            "Epoch 55/80\n",
            "2518/2518 [==============================] - 27s 11ms/step - loss: 4.3512 - accuracy: 0.1258 - val_loss: 4.2396 - val_accuracy: 0.1349\n",
            "Epoch 56/80\n",
            "2518/2518 [==============================] - 28s 11ms/step - loss: 4.3461 - accuracy: 0.1274 - val_loss: 4.2200 - val_accuracy: 0.1364\n",
            "Epoch 57/80\n",
            "2518/2518 [==============================] - 27s 11ms/step - loss: 4.3425 - accuracy: 0.1256 - val_loss: 4.2145 - val_accuracy: 0.1396\n",
            "Epoch 58/80\n",
            "2518/2518 [==============================] - 27s 11ms/step - loss: 4.3402 - accuracy: 0.1267 - val_loss: 4.2152 - val_accuracy: 0.1374\n",
            "Epoch 59/80\n",
            "2518/2518 [==============================] - 27s 11ms/step - loss: 4.3388 - accuracy: 0.1262 - val_loss: 4.2068 - val_accuracy: 0.1397\n",
            "Epoch 60/80\n",
            "2518/2518 [==============================] - 27s 11ms/step - loss: 4.3356 - accuracy: 0.1280 - val_loss: 4.2054 - val_accuracy: 0.1385\n",
            "Epoch 61/80\n",
            "2518/2518 [==============================] - 26s 11ms/step - loss: 4.3308 - accuracy: 0.1286 - val_loss: 4.2035 - val_accuracy: 0.1379\n",
            "Epoch 62/80\n",
            "2518/2518 [==============================] - 27s 11ms/step - loss: 4.3306 - accuracy: 0.1282 - val_loss: 4.2079 - val_accuracy: 0.1405\n",
            "Epoch 63/80\n",
            "2518/2518 [==============================] - 26s 10ms/step - loss: 4.3261 - accuracy: 0.1279 - val_loss: 4.2027 - val_accuracy: 0.1411\n",
            "Epoch 64/80\n",
            "2518/2518 [==============================] - 27s 11ms/step - loss: 4.3247 - accuracy: 0.1291 - val_loss: 4.2104 - val_accuracy: 0.1396\n",
            "Epoch 65/80\n",
            "2518/2518 [==============================] - 26s 11ms/step - loss: 4.3223 - accuracy: 0.1294 - val_loss: 4.2016 - val_accuracy: 0.1396\n",
            "Epoch 66/80\n",
            "2518/2518 [==============================] - 26s 10ms/step - loss: 4.3197 - accuracy: 0.1295 - val_loss: 4.1956 - val_accuracy: 0.1402\n",
            "Epoch 67/80\n",
            "2518/2518 [==============================] - 27s 11ms/step - loss: 4.3160 - accuracy: 0.1306 - val_loss: 4.1923 - val_accuracy: 0.1421\n",
            "Epoch 68/80\n",
            "2518/2518 [==============================] - 27s 11ms/step - loss: 4.3142 - accuracy: 0.1299 - val_loss: 4.1879 - val_accuracy: 0.1421\n",
            "Epoch 69/80\n",
            "2518/2518 [==============================] - 26s 10ms/step - loss: 4.3130 - accuracy: 0.1304 - val_loss: 4.1841 - val_accuracy: 0.1408\n",
            "Epoch 70/80\n",
            "2518/2518 [==============================] - 26s 10ms/step - loss: 4.3129 - accuracy: 0.1297 - val_loss: 4.1797 - val_accuracy: 0.1440\n",
            "Epoch 71/80\n",
            "2518/2518 [==============================] - 26s 10ms/step - loss: 4.3100 - accuracy: 0.1298 - val_loss: 4.2091 - val_accuracy: 0.1400\n",
            "Epoch 72/80\n",
            "2518/2518 [==============================] - 26s 10ms/step - loss: 4.3055 - accuracy: 0.1300 - val_loss: 4.1717 - val_accuracy: 0.1436\n",
            "Epoch 73/80\n",
            "2518/2518 [==============================] - 27s 11ms/step - loss: 4.3022 - accuracy: 0.1310 - val_loss: 4.1739 - val_accuracy: 0.1445\n",
            "Epoch 74/80\n",
            "2518/2518 [==============================] - 26s 10ms/step - loss: 4.3019 - accuracy: 0.1314 - val_loss: 4.1741 - val_accuracy: 0.1440\n",
            "Epoch 75/80\n",
            "2518/2518 [==============================] - 26s 10ms/step - loss: 4.3001 - accuracy: 0.1322 - val_loss: 4.1749 - val_accuracy: 0.1427\n",
            "Epoch 76/80\n",
            "2518/2518 [==============================] - 26s 10ms/step - loss: 4.3001 - accuracy: 0.1314 - val_loss: 4.1863 - val_accuracy: 0.1432\n",
            "Epoch 77/80\n",
            "2518/2518 [==============================] - 26s 11ms/step - loss: 4.2948 - accuracy: 0.1321 - val_loss: 4.1712 - val_accuracy: 0.1429\n",
            "Epoch 78/80\n",
            "2518/2518 [==============================] - 27s 11ms/step - loss: 4.2921 - accuracy: 0.1332 - val_loss: 4.1630 - val_accuracy: 0.1436\n",
            "Epoch 79/80\n",
            "2518/2518 [==============================] - 26s 10ms/step - loss: 4.2917 - accuracy: 0.1322 - val_loss: 4.1739 - val_accuracy: 0.1451\n",
            "Epoch 80/80\n",
            "2518/2518 [==============================] - 27s 11ms/step - loss: 4.2908 - accuracy: 0.1321 - val_loss: 4.1628 - val_accuracy: 0.1441\n"
          ]
        }
      ]
    },
    {
      "cell_type": "markdown",
      "source": [
        "## Evaulating the model with custom embeddings"
      ],
      "metadata": {
        "id": "dQi11NZiYFOM"
      }
    },
    {
      "cell_type": "code",
      "source": [
        "acc = history.history['accuracy']\n",
        "loss = history.history['loss']\n",
        "epochs = range(len(acc))\n",
        "plt.plot(epochs, acc, 'b', label='Training accuracy')\n",
        "plt.title('Training accuracy')\n",
        "plt.figure()\n",
        "plt.plot(epochs, loss, 'b', label='Training Loss')\n",
        "plt.title('Training loss')\n",
        "plt.legend()\n",
        "plt.show()"
      ],
      "metadata": {
        "colab": {
          "base_uri": "https://localhost:8080/",
          "height": 545
        },
        "id": "JII7wRxpJy3E",
        "outputId": "c0244ec0-10de-4c7e-db8e-e437644a914b"
      },
      "execution_count": null,
      "outputs": [
        {
          "output_type": "display_data",
          "data": {
            "text/plain": [
              "<Figure size 432x288 with 1 Axes>"
            ],
            "image/png": "[encoded data removed]"
          },
          "metadata": {
            "needs_background": "light"
          }
        },
        {
          "output_type": "display_data",
          "data": {
            "text/plain": [
              "<Figure size 432x288 with 1 Axes>"
            ],
            "image/png": "[encoded data removed]"
          },
          "metadata": {
            "needs_background": "light"
          }
        }
      ]
    },
    {
      "cell_type": "markdown",
      "source": [
        "As we can see, the model converges faster and has lower loss than a model without custom embeddings"
      ],
      "metadata": {
        "id": "Xn_ahlDnYLHd"
      }
    },
    {
      "cell_type": "code",
      "source": [
        "seed_text = [\"D7\"]\n",
        "next_chords = 3\n",
        "\n",
        "for _ in range(next_chords):\n",
        "    token_list = tokenizer.texts_to_sequences([seed_text])[0]\n",
        "    token_list = pad_sequences([token_list], maxlen=max_sequence_len-1, padding='pre')\n",
        "    #predicted = np.argmax(model.predict(token_list), axis=-1)\n",
        "    predicted = np.argsort(np.max(model.predict(token_list), axis=0))[-2] # a 'hotter' guess with the second most probable chord\n",
        "    print(predicted)\n",
        "    output_word = \"\"\n",
        "    for word, index in tokenizer.word_index.items():\n",
        "        if index == predicted:\n",
        "            output_word = word\n",
        "            break\n",
        "    seed_text.append(output_word)\n",
        "print(seed_text)"
      ],
      "metadata": {
        "colab": {
          "base_uri": "https://localhost:8080/"
        },
        "id": "4QHQhQRMKLba",
        "outputId": "8c0f0784-85d7-4385-8889-dbed765dc335"
      },
      "execution_count": null,
      "outputs": [
        {
          "output_type": "stream",
          "name": "stdout",
          "text": [
            "46\n",
            "5\n",
            "6\n",
            "['D7', 'D7/A', 'Dm7', 'D7']\n"
          ]
        }
      ]
    }
  ]
}